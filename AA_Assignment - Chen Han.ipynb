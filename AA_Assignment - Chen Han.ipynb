{
 "cells": [
  {
   "cell_type": "code",
   "execution_count": 1,
   "metadata": {},
   "outputs": [],
   "source": [
    "# import the required packages\n",
    "import numpy as np\n",
    "import pandas as pd\n",
    "import matplotlib.pyplot as plt\n",
    "import re\n",
    "\n",
    "from sklearn.feature_extraction.text import CountVectorizer\n",
    "from sklearn.feature_extraction.text import TfidfTransformer\n",
    "\n",
    "# for market basket analysis\n",
    "# conda install -c conda-forge mlxtend\n",
    "from mlxtend.frequent_patterns import apriori\n",
    "from mlxtend.frequent_patterns import association_rules\n",
    "from mlxtend.preprocessing import TransactionEncoder\n",
    "\n",
    "# pip install wordcloud\n",
    "from wordcloud import WordCloud\n",
    "\n",
    "from sklearn.model_selection import train_test_split \n",
    "from sklearn.model_selection import cross_val_score\n",
    "from sklearn.linear_model import LogisticRegression\n",
    "\n",
    "from sklearn.model_selection import GridSearchCV"
   ]
  },
  {
   "cell_type": "markdown",
   "metadata": {},
   "source": [
    "## 1. Text Data Preprocessing"
   ]
  },
  {
   "cell_type": "markdown",
   "metadata": {},
   "source": [
    "### 1.1 Load the Text Data"
   ]
  },
  {
   "cell_type": "code",
   "execution_count": 2,
   "metadata": {},
   "outputs": [
    {
     "data": {
      "text/html": [
       "<div>\n",
       "<style scoped>\n",
       "    .dataframe tbody tr th:only-of-type {\n",
       "        vertical-align: middle;\n",
       "    }\n",
       "\n",
       "    .dataframe tbody tr th {\n",
       "        vertical-align: top;\n",
       "    }\n",
       "\n",
       "    .dataframe thead th {\n",
       "        text-align: right;\n",
       "    }\n",
       "</style>\n",
       "<table border=\"1\" class=\"dataframe\">\n",
       "  <thead>\n",
       "    <tr style=\"text-align: right;\">\n",
       "      <th></th>\n",
       "      <th>category</th>\n",
       "      <th>text</th>\n",
       "    </tr>\n",
       "  </thead>\n",
       "  <tbody>\n",
       "    <tr>\n",
       "      <th>0</th>\n",
       "      <td>tech</td>\n",
       "      <td>tv future in the hands of viewers with home th...</td>\n",
       "    </tr>\n",
       "    <tr>\n",
       "      <th>1</th>\n",
       "      <td>business</td>\n",
       "      <td>worldcom boss  left books alone  former worldc...</td>\n",
       "    </tr>\n",
       "    <tr>\n",
       "      <th>2</th>\n",
       "      <td>sport</td>\n",
       "      <td>tigers wary of farrell  gamble  leicester say ...</td>\n",
       "    </tr>\n",
       "    <tr>\n",
       "      <th>3</th>\n",
       "      <td>sport</td>\n",
       "      <td>yeading face newcastle in fa cup premiership s...</td>\n",
       "    </tr>\n",
       "    <tr>\n",
       "      <th>4</th>\n",
       "      <td>entertainment</td>\n",
       "      <td>ocean s twelve raids box office ocean s twelve...</td>\n",
       "    </tr>\n",
       "    <tr>\n",
       "      <th>5</th>\n",
       "      <td>politics</td>\n",
       "      <td>howard hits back at mongrel jibe michael howar...</td>\n",
       "    </tr>\n",
       "    <tr>\n",
       "      <th>6</th>\n",
       "      <td>politics</td>\n",
       "      <td>blair prepares to name poll date tony blair is...</td>\n",
       "    </tr>\n",
       "    <tr>\n",
       "      <th>7</th>\n",
       "      <td>sport</td>\n",
       "      <td>henman hopes ended in dubai third seed tim hen...</td>\n",
       "    </tr>\n",
       "    <tr>\n",
       "      <th>8</th>\n",
       "      <td>sport</td>\n",
       "      <td>wilkinson fit to face edinburgh england captai...</td>\n",
       "    </tr>\n",
       "    <tr>\n",
       "      <th>9</th>\n",
       "      <td>entertainment</td>\n",
       "      <td>last star wars  not for children  the sixth an...</td>\n",
       "    </tr>\n",
       "  </tbody>\n",
       "</table>\n",
       "</div>"
      ],
      "text/plain": [
       "        category                                               text\n",
       "0           tech  tv future in the hands of viewers with home th...\n",
       "1       business  worldcom boss  left books alone  former worldc...\n",
       "2          sport  tigers wary of farrell  gamble  leicester say ...\n",
       "3          sport  yeading face newcastle in fa cup premiership s...\n",
       "4  entertainment  ocean s twelve raids box office ocean s twelve...\n",
       "5       politics  howard hits back at mongrel jibe michael howar...\n",
       "6       politics  blair prepares to name poll date tony blair is...\n",
       "7          sport  henman hopes ended in dubai third seed tim hen...\n",
       "8          sport  wilkinson fit to face edinburgh england captai...\n",
       "9  entertainment  last star wars  not for children  the sixth an..."
      ]
     },
     "execution_count": 2,
     "metadata": {},
     "output_type": "execute_result"
    }
   ],
   "source": [
    "dat = pd.read_csv('bbc-text.csv')\n",
    "dat.head(10)"
   ]
  },
  {
   "cell_type": "code",
   "execution_count": 3,
   "metadata": {},
   "outputs": [
    {
     "name": "stdout",
     "output_type": "stream",
     "text": [
      "<class 'pandas.core.frame.DataFrame'>\n",
      "RangeIndex: 2225 entries, 0 to 2224\n",
      "Data columns (total 2 columns):\n",
      " #   Column    Non-Null Count  Dtype \n",
      "---  ------    --------------  ----- \n",
      " 0   category  2225 non-null   object\n",
      " 1   text      2225 non-null   object\n",
      "dtypes: object(2)\n",
      "memory usage: 34.9+ KB\n"
     ]
    }
   ],
   "source": [
    "dat.info()"
   ]
  },
  {
   "cell_type": "code",
   "execution_count": 4,
   "metadata": {},
   "outputs": [
    {
     "data": {
      "text/plain": [
       "sport            511\n",
       "business         510\n",
       "politics         417\n",
       "tech             401\n",
       "entertainment    386\n",
       "Name: category, dtype: int64"
      ]
     },
     "execution_count": 4,
     "metadata": {},
     "output_type": "execute_result"
    }
   ],
   "source": [
    "dat[\"category\"].value_counts()"
   ]
  },
  {
   "cell_type": "markdown",
   "metadata": {},
   "source": [
    "### 1.2 Cleanse the Text Data"
   ]
  },
  {
   "cell_type": "code",
   "execution_count": 5,
   "metadata": {},
   "outputs": [
    {
     "data": {
      "text/plain": [
       "'tv future in the hands of viewers with home theatre systems  plasma high-definition tvs  and digital video recorders moving into the living room  the way people watch tv will be radically different in five years  time.  that is according to an expert panel which gathered at the annual consumer electronics show in las vegas to discuss how these new technologies will impact one of our favourite pastimes. with the us leading the trend  programmes and other content will be delivered to viewers via home networks  through cable  satellite  telecoms companies  and broadband service providers to front rooms and portable devices.  one of the most talked-about technologies of ces has been digital and personal video recorders (dvr and pvr). these set-top boxes  like the us s tivo and the uk s sky+ system  allow people to record  store  play  pause and forward wind tv programmes when they want.  essentially  the technology allows for much more personalised tv. they are also being built-in to high-definition tv sets  which are big business in japan and the us  but slower to take off in europe because of the lack of high-definition programming. not only can people forward wind through adverts  they can also forget about abiding by network and channel schedules  putting together their own a-la-carte entertainment. but some us networks and cable and satellite companies are worried about what it means for them in terms of advertising revenues as well as  brand identity  and viewer loyalty to channels. although the us leads in this technology at the moment  it is also a concern that is being raised in europe  particularly with the growing uptake of services like sky+.  what happens here today  we will see in nine months to a years  time in the uk   adam hume  the bbc broadcast s futurologist told the bbc news website. for the likes of the bbc  there are no issues of lost advertising revenue yet. it is a more pressing issue at the moment for commercial uk broadcasters  but brand loyalty is important for everyone.  we will be talking more about content brands rather than network brands   said tim hanlon  from brand communications firm starcom mediavest.  the reality is that with broadband connections  anybody can be the producer of content.  he added:  the challenge now is that it is hard to promote a programme with so much choice.   what this means  said stacey jolna  senior vice president of tv guide tv group  is that the way people find the content they want to watch has to be simplified for tv viewers. it means that networks  in us terms  or channels could take a leaf out of google s book and be the search engine of the future  instead of the scheduler to help people find what they want to watch. this kind of channel model might work for the younger ipod generation which is used to taking control of their gadgets and what they play on them. but it might not suit everyone  the panel recognised. older generations are more comfortable with familiar schedules and channel brands because they know what they are getting. they perhaps do not want so much of the choice put into their hands  mr hanlon suggested.  on the other end  you have the kids just out of diapers who are pushing buttons already - everything is possible and available to them   said mr hanlon.  ultimately  the consumer will tell the market they want.   of the 50 000 new gadgets and technologies being showcased at ces  many of them are about enhancing the tv-watching experience. high-definition tv sets are everywhere and many new models of lcd (liquid crystal display) tvs have been launched with dvr capability built into them  instead of being external boxes. one such example launched at the show is humax s 26-inch lcd tv with an 80-hour tivo dvr and dvd recorder. one of the us s biggest satellite tv companies  directtv  has even launched its own branded dvr at the show with 100-hours of recording capability  instant replay  and a search function. the set can pause and rewind tv for up to 90 hours. and microsoft chief bill gates announced in his pre-show keynote speech a partnership with tivo  called tivotogo  which means people can play recorded programmes on windows pcs and mobile devices. all these reflect the increasing trend of freeing up multimedia so that people can watch what they want  when they want.'"
      ]
     },
     "execution_count": 5,
     "metadata": {},
     "output_type": "execute_result"
    }
   ],
   "source": [
    "dat[\"text\"][0]"
   ]
  },
  {
   "cell_type": "code",
   "execution_count": 6,
   "metadata": {},
   "outputs": [],
   "source": [
    "def pre_process(text):\n",
    "    \n",
    "    # lowercase\n",
    "    text=text.lower()\n",
    "    \n",
    "    #remove tags\n",
    "    text=re.sub(\"</?.*?>\",\" <> \",text)\n",
    "    \n",
    "    # remove special characters and digits\n",
    "    text=re.sub(\"(\\\\d|\\\\W|_)+\",\" \",text)\n",
    "    \n",
    "    return text\n",
    "\n",
    "def get_stop_words(stop_file_path):\n",
    "    \"\"\"load stop words \"\"\"\n",
    "    \n",
    "    with open(stop_file_path, 'r', encoding=\"utf-8\") as f:\n",
    "        stopwords = f.readlines()\n",
    "        stop_set = set(m.strip() for m in stopwords)\n",
    "        return frozenset(stop_set)\n",
    "\n",
    "#load a set of stop words\n",
    "stopwords=get_stop_words(\"stopwords.txt\")\n",
    "\n",
    "#Remove all punctuations and convert to lower cases\n",
    "text_all = dat['text'].apply(lambda x:pre_process(x))"
   ]
  },
  {
   "cell_type": "code",
   "execution_count": 7,
   "metadata": {},
   "outputs": [
    {
     "data": {
      "text/plain": [
       "'tv future hands viewers home theatre systems plasma definition tvs digital video recorders moving living people watch tv radically five time according expert panel gathered annual consumer electronics las vegas discuss technologies impact favourite pastimes leading trend programmes content delivered viewers via home networks cable satellite telecoms companies broadband service providers front portable devices talked technologies ces digital personal video recorders dvr pvr set top boxes tivo uk sky system allow people record store play pause forward wind tv programmes essentially technology allows personalised tv built definition tv sets business japan slower europe lack definition programming people forward wind adverts forget abiding network channel schedules putting own la carte entertainment networks cable satellite companies worried means terms advertising revenues brand identity viewer loyalty channels leads technology moment concern raised europe particularly growing uptake services sky happens nine months time uk adam hume bbc broadcast futurologist told bbc news website likes bbc issues lost advertising revenue pressing issue moment commercial uk broadcasters brand loyalty talking content brands network brands tim hanlon brand communications firm starcom mediavest reality broadband connections producer content added challenge hard promote programme choice means stacey jolna senior vice president tv guide tv people content watch simplified tv viewers means networks terms channels leaf google book search engine future instead scheduler help people watch channel model ipod generation taking control gadgets play suit panel recognised generations comfortable familiar schedules channel brands getting choice hands hanlon suggested kids diapers pushing buttons available hanlon ultimately consumer tell market gadgets technologies showcased ces enhancing tv watching experience definition tv sets models lcd liquid crystal display tvs launched dvr capability built instead external boxes example launched humax inch lcd tv hour tivo dvr dvd recorder biggest satellite tv companies directtv launched own branded dvr hours recording capability instant replay search function set pause rewind tv hours microsoft chief bill gates announced pre keynote speech partnership tivo called tivotogo means people play recorded programmes windows pcs mobile devices reflect increasing trend freeing multimedia people watch'"
      ]
     },
     "execution_count": 7,
     "metadata": {},
     "output_type": "execute_result"
    }
   ],
   "source": [
    "#Remove the stop words\n",
    "from nltk.tokenize import sent_tokenize, word_tokenize\n",
    "\n",
    "def remove_stopwords(sentence):\n",
    "    token_words=word_tokenize(sentence)\n",
    "    new_sentence = [word for word in token_words if word not in stopwords]\n",
    "    return \" \".join(new_sentence)\n",
    "\n",
    "text_all = text_all.apply(lambda x:remove_stopwords(x))\n",
    "text_all[0]"
   ]
  },
  {
   "cell_type": "code",
   "execution_count": 8,
   "metadata": {},
   "outputs": [
    {
     "name": "stdout",
     "output_type": "stream",
     "text": [
      "tv future hand viewer home theatre system plasma definition tv digital video recorder moving living people watch tv radically five time according expert panel gathered annual consumer electronics la vega discus technology impact favourite pastime leading trend programme content delivered viewer via home network cable satellite telecom company broadband service provider front portable device talked technology ce digital personal video recorder dvr pvr set top box tivo uk sky system allow people record store play pause forward wind tv programme essentially technology allows personalised tv built definition tv set business japan slower europe lack definition programming people forward wind advert forget abiding network channel schedule putting own la carte entertainment network cable satellite company worried mean term advertising revenue brand identity viewer loyalty channel lead technology moment concern raised europe particularly growing uptake service sky happens nine month time uk adam hume bbc broadcast futurologist told bbc news website like bbc issue lost advertising revenue pressing issue moment commercial uk broadcaster brand loyalty talking content brand network brand tim hanlon brand communication firm starcom mediavest reality broadband connection producer content added challenge hard promote programme choice mean stacey jolna senior vice president tv guide tv people content watch simplified tv viewer mean network term channel leaf google book search engine future instead scheduler help people watch channel model ipod generation taking control gadget play suit panel recognised generation comfortable familiar schedule channel brand getting choice hand hanlon suggested kid diaper pushing button available hanlon ultimately consumer tell market gadget technology showcased ce enhancing tv watching experience definition tv set model lcd liquid crystal display tv launched dvr capability built instead external box example launched humax inch lcd tv hour tivo dvr dvd recorder biggest satellite tv company directtv launched own branded dvr hour recording capability instant replay search function set pause rewind tv hour microsoft chief bill gate announced pre keynote speech partnership tivo called tivotogo mean people play recorded programme window pc mobile device reflect increasing trend freeing multimedia people watch\n"
     ]
    }
   ],
   "source": [
    "#Stemming and Lemmatizing\n",
    "import nltk\n",
    "#Need to manually download the relevant nltk packages\n",
    "#nltk.download()\n",
    "from nltk.stem import WordNetLemmatizer\n",
    "\n",
    "lem = WordNetLemmatizer()\n",
    "\n",
    "def lemSentence(sentence):\n",
    "    token_words=word_tokenize(sentence)\n",
    "    lem_sentence=[lem.lemmatize(word) for word in token_words]\n",
    "    return \" \".join(lem_sentence)\n",
    "\n",
    "text_all = text_all.apply(lambda x:lemSentence(x))\n",
    "print(text_all[0])"
   ]
  },
  {
   "cell_type": "code",
   "execution_count": 9,
   "metadata": {},
   "outputs": [
    {
     "data": {
      "text/plain": [
       "(2225,)"
      ]
     },
     "execution_count": 9,
     "metadata": {},
     "output_type": "execute_result"
    }
   ],
   "source": [
    "text_all.shape"
   ]
  },
  {
   "cell_type": "markdown",
   "metadata": {},
   "source": [
    "### 1.3 Transform Text Data: Bag-of-Word (Word Count)"
   ]
  },
  {
   "cell_type": "code",
   "execution_count": 10,
   "metadata": {},
   "outputs": [],
   "source": [
    "#create a vocabulary of words, \n",
    "#ignore words that appear in 15% of documents, \n",
    "#eliminate stop words\n",
    "#max_df (ignore words appeared in 15% of documents), max_features(limit the number of words), first. 5000 words\n",
    "count_vect = CountVectorizer(max_df=0.15, stop_words=stopwords, max_features=5000)\n",
    "\n",
    "#Fit the data into the model defined early\n",
    "text_bow = count_vect.fit_transform(text_all.tolist())"
   ]
  },
  {
   "cell_type": "code",
   "execution_count": 11,
   "metadata": {},
   "outputs": [
    {
     "data": {
      "text/plain": [
       "(2225, 5000)"
      ]
     },
     "execution_count": 11,
     "metadata": {},
     "output_type": "execute_result"
    }
   ],
   "source": [
    "text_bow.shape"
   ]
  },
  {
   "cell_type": "code",
   "execution_count": 12,
   "metadata": {},
   "outputs": [],
   "source": [
    "#sum up all the words that appears\n",
    "#word_freq -> number of times a certain word appeared in documents (bag of word)\n",
    "\n",
    "sum_words = text_bow.sum(axis=0)\n",
    "words_freq = [(word, sum_words[0, idx]) for word, idx in count_vect.vocabulary_.items()]\n",
    "words_freq =sorted(words_freq, key = lambda x: x[1], reverse=True)"
   ]
  },
  {
   "cell_type": "code",
   "execution_count": 13,
   "metadata": {},
   "outputs": [
    {
     "name": "stdout",
     "output_type": "stream",
     "text": [
      "The highest frequency words:\n",
      "[('film', 1148), ('bn', 958), ('music', 839), ('labour', 804), ('party', 799)]\n",
      "The lowest frequency words:\n",
      "[('fenice', 12), ('dundee', 12), ('honda', 12), ('sloncek', 12), ('asimo', 12)]\n"
     ]
    }
   ],
   "source": [
    "print('The highest frequency words:')\n",
    "print(words_freq[0:5])\n",
    "\n",
    "print('The lowest frequency words:') \n",
    "print(words_freq[-5:])"
   ]
  },
  {
   "cell_type": "code",
   "execution_count": 14,
   "metadata": {},
   "outputs": [
    {
     "data": {
      "text/html": [
       "<div>\n",
       "<style scoped>\n",
       "    .dataframe tbody tr th:only-of-type {\n",
       "        vertical-align: middle;\n",
       "    }\n",
       "\n",
       "    .dataframe tbody tr th {\n",
       "        vertical-align: top;\n",
       "    }\n",
       "\n",
       "    .dataframe thead th {\n",
       "        text-align: right;\n",
       "    }\n",
       "</style>\n",
       "<table border=\"1\" class=\"dataframe\">\n",
       "  <thead>\n",
       "    <tr style=\"text-align: right;\">\n",
       "      <th></th>\n",
       "      <th>0</th>\n",
       "      <th>1</th>\n",
       "      <th>2</th>\n",
       "      <th>3</th>\n",
       "      <th>4</th>\n",
       "      <th>5</th>\n",
       "      <th>6</th>\n",
       "      <th>7</th>\n",
       "      <th>8</th>\n",
       "      <th>9</th>\n",
       "      <th>...</th>\n",
       "      <th>4990</th>\n",
       "      <th>4991</th>\n",
       "      <th>4992</th>\n",
       "      <th>4993</th>\n",
       "      <th>4994</th>\n",
       "      <th>4995</th>\n",
       "      <th>4996</th>\n",
       "      <th>4997</th>\n",
       "      <th>4998</th>\n",
       "      <th>4999</th>\n",
       "    </tr>\n",
       "  </thead>\n",
       "  <tbody>\n",
       "    <tr>\n",
       "      <th>0</th>\n",
       "      <td>0</td>\n",
       "      <td>0</td>\n",
       "      <td>0</td>\n",
       "      <td>0</td>\n",
       "      <td>0</td>\n",
       "      <td>0</td>\n",
       "      <td>0</td>\n",
       "      <td>0</td>\n",
       "      <td>0</td>\n",
       "      <td>0</td>\n",
       "      <td>...</td>\n",
       "      <td>0</td>\n",
       "      <td>0</td>\n",
       "      <td>0</td>\n",
       "      <td>0</td>\n",
       "      <td>0</td>\n",
       "      <td>0</td>\n",
       "      <td>0</td>\n",
       "      <td>0</td>\n",
       "      <td>0</td>\n",
       "      <td>0</td>\n",
       "    </tr>\n",
       "    <tr>\n",
       "      <th>1</th>\n",
       "      <td>0</td>\n",
       "      <td>0</td>\n",
       "      <td>0</td>\n",
       "      <td>0</td>\n",
       "      <td>1</td>\n",
       "      <td>0</td>\n",
       "      <td>0</td>\n",
       "      <td>0</td>\n",
       "      <td>0</td>\n",
       "      <td>0</td>\n",
       "      <td>...</td>\n",
       "      <td>0</td>\n",
       "      <td>0</td>\n",
       "      <td>0</td>\n",
       "      <td>0</td>\n",
       "      <td>0</td>\n",
       "      <td>0</td>\n",
       "      <td>0</td>\n",
       "      <td>0</td>\n",
       "      <td>0</td>\n",
       "      <td>0</td>\n",
       "    </tr>\n",
       "    <tr>\n",
       "      <th>2</th>\n",
       "      <td>0</td>\n",
       "      <td>0</td>\n",
       "      <td>0</td>\n",
       "      <td>0</td>\n",
       "      <td>0</td>\n",
       "      <td>0</td>\n",
       "      <td>0</td>\n",
       "      <td>0</td>\n",
       "      <td>0</td>\n",
       "      <td>0</td>\n",
       "      <td>...</td>\n",
       "      <td>0</td>\n",
       "      <td>0</td>\n",
       "      <td>0</td>\n",
       "      <td>0</td>\n",
       "      <td>0</td>\n",
       "      <td>0</td>\n",
       "      <td>0</td>\n",
       "      <td>0</td>\n",
       "      <td>0</td>\n",
       "      <td>0</td>\n",
       "    </tr>\n",
       "    <tr>\n",
       "      <th>3</th>\n",
       "      <td>0</td>\n",
       "      <td>0</td>\n",
       "      <td>0</td>\n",
       "      <td>0</td>\n",
       "      <td>0</td>\n",
       "      <td>0</td>\n",
       "      <td>0</td>\n",
       "      <td>0</td>\n",
       "      <td>0</td>\n",
       "      <td>0</td>\n",
       "      <td>...</td>\n",
       "      <td>0</td>\n",
       "      <td>0</td>\n",
       "      <td>0</td>\n",
       "      <td>0</td>\n",
       "      <td>0</td>\n",
       "      <td>0</td>\n",
       "      <td>0</td>\n",
       "      <td>0</td>\n",
       "      <td>0</td>\n",
       "      <td>0</td>\n",
       "    </tr>\n",
       "    <tr>\n",
       "      <th>4</th>\n",
       "      <td>0</td>\n",
       "      <td>0</td>\n",
       "      <td>0</td>\n",
       "      <td>0</td>\n",
       "      <td>0</td>\n",
       "      <td>0</td>\n",
       "      <td>0</td>\n",
       "      <td>0</td>\n",
       "      <td>0</td>\n",
       "      <td>0</td>\n",
       "      <td>...</td>\n",
       "      <td>0</td>\n",
       "      <td>0</td>\n",
       "      <td>0</td>\n",
       "      <td>0</td>\n",
       "      <td>0</td>\n",
       "      <td>0</td>\n",
       "      <td>0</td>\n",
       "      <td>0</td>\n",
       "      <td>0</td>\n",
       "      <td>0</td>\n",
       "    </tr>\n",
       "    <tr>\n",
       "      <th>...</th>\n",
       "      <td>...</td>\n",
       "      <td>...</td>\n",
       "      <td>...</td>\n",
       "      <td>...</td>\n",
       "      <td>...</td>\n",
       "      <td>...</td>\n",
       "      <td>...</td>\n",
       "      <td>...</td>\n",
       "      <td>...</td>\n",
       "      <td>...</td>\n",
       "      <td>...</td>\n",
       "      <td>...</td>\n",
       "      <td>...</td>\n",
       "      <td>...</td>\n",
       "      <td>...</td>\n",
       "      <td>...</td>\n",
       "      <td>...</td>\n",
       "      <td>...</td>\n",
       "      <td>...</td>\n",
       "      <td>...</td>\n",
       "      <td>...</td>\n",
       "    </tr>\n",
       "    <tr>\n",
       "      <th>2220</th>\n",
       "      <td>0</td>\n",
       "      <td>0</td>\n",
       "      <td>0</td>\n",
       "      <td>0</td>\n",
       "      <td>0</td>\n",
       "      <td>0</td>\n",
       "      <td>0</td>\n",
       "      <td>0</td>\n",
       "      <td>0</td>\n",
       "      <td>0</td>\n",
       "      <td>...</td>\n",
       "      <td>0</td>\n",
       "      <td>0</td>\n",
       "      <td>0</td>\n",
       "      <td>0</td>\n",
       "      <td>0</td>\n",
       "      <td>0</td>\n",
       "      <td>0</td>\n",
       "      <td>0</td>\n",
       "      <td>0</td>\n",
       "      <td>0</td>\n",
       "    </tr>\n",
       "    <tr>\n",
       "      <th>2221</th>\n",
       "      <td>0</td>\n",
       "      <td>0</td>\n",
       "      <td>0</td>\n",
       "      <td>0</td>\n",
       "      <td>0</td>\n",
       "      <td>0</td>\n",
       "      <td>0</td>\n",
       "      <td>0</td>\n",
       "      <td>1</td>\n",
       "      <td>0</td>\n",
       "      <td>...</td>\n",
       "      <td>0</td>\n",
       "      <td>0</td>\n",
       "      <td>0</td>\n",
       "      <td>0</td>\n",
       "      <td>0</td>\n",
       "      <td>0</td>\n",
       "      <td>0</td>\n",
       "      <td>0</td>\n",
       "      <td>0</td>\n",
       "      <td>0</td>\n",
       "    </tr>\n",
       "    <tr>\n",
       "      <th>2222</th>\n",
       "      <td>0</td>\n",
       "      <td>0</td>\n",
       "      <td>0</td>\n",
       "      <td>0</td>\n",
       "      <td>0</td>\n",
       "      <td>0</td>\n",
       "      <td>0</td>\n",
       "      <td>0</td>\n",
       "      <td>0</td>\n",
       "      <td>0</td>\n",
       "      <td>...</td>\n",
       "      <td>0</td>\n",
       "      <td>0</td>\n",
       "      <td>0</td>\n",
       "      <td>0</td>\n",
       "      <td>0</td>\n",
       "      <td>0</td>\n",
       "      <td>0</td>\n",
       "      <td>0</td>\n",
       "      <td>0</td>\n",
       "      <td>0</td>\n",
       "    </tr>\n",
       "    <tr>\n",
       "      <th>2223</th>\n",
       "      <td>0</td>\n",
       "      <td>0</td>\n",
       "      <td>0</td>\n",
       "      <td>0</td>\n",
       "      <td>0</td>\n",
       "      <td>0</td>\n",
       "      <td>0</td>\n",
       "      <td>0</td>\n",
       "      <td>0</td>\n",
       "      <td>0</td>\n",
       "      <td>...</td>\n",
       "      <td>0</td>\n",
       "      <td>0</td>\n",
       "      <td>0</td>\n",
       "      <td>0</td>\n",
       "      <td>0</td>\n",
       "      <td>0</td>\n",
       "      <td>0</td>\n",
       "      <td>0</td>\n",
       "      <td>0</td>\n",
       "      <td>0</td>\n",
       "    </tr>\n",
       "    <tr>\n",
       "      <th>2224</th>\n",
       "      <td>0</td>\n",
       "      <td>0</td>\n",
       "      <td>0</td>\n",
       "      <td>0</td>\n",
       "      <td>0</td>\n",
       "      <td>0</td>\n",
       "      <td>0</td>\n",
       "      <td>0</td>\n",
       "      <td>0</td>\n",
       "      <td>0</td>\n",
       "      <td>...</td>\n",
       "      <td>0</td>\n",
       "      <td>0</td>\n",
       "      <td>0</td>\n",
       "      <td>0</td>\n",
       "      <td>0</td>\n",
       "      <td>0</td>\n",
       "      <td>0</td>\n",
       "      <td>0</td>\n",
       "      <td>0</td>\n",
       "      <td>0</td>\n",
       "    </tr>\n",
       "  </tbody>\n",
       "</table>\n",
       "<p>2225 rows × 5000 columns</p>\n",
       "</div>"
      ],
      "text/plain": [
       "      0     1     2     3     4     5     6     7     8     9     ...  4990  \\\n",
       "0        0     0     0     0     0     0     0     0     0     0  ...     0   \n",
       "1        0     0     0     0     1     0     0     0     0     0  ...     0   \n",
       "2        0     0     0     0     0     0     0     0     0     0  ...     0   \n",
       "3        0     0     0     0     0     0     0     0     0     0  ...     0   \n",
       "4        0     0     0     0     0     0     0     0     0     0  ...     0   \n",
       "...    ...   ...   ...   ...   ...   ...   ...   ...   ...   ...  ...   ...   \n",
       "2220     0     0     0     0     0     0     0     0     0     0  ...     0   \n",
       "2221     0     0     0     0     0     0     0     0     1     0  ...     0   \n",
       "2222     0     0     0     0     0     0     0     0     0     0  ...     0   \n",
       "2223     0     0     0     0     0     0     0     0     0     0  ...     0   \n",
       "2224     0     0     0     0     0     0     0     0     0     0  ...     0   \n",
       "\n",
       "      4991  4992  4993  4994  4995  4996  4997  4998  4999  \n",
       "0        0     0     0     0     0     0     0     0     0  \n",
       "1        0     0     0     0     0     0     0     0     0  \n",
       "2        0     0     0     0     0     0     0     0     0  \n",
       "3        0     0     0     0     0     0     0     0     0  \n",
       "4        0     0     0     0     0     0     0     0     0  \n",
       "...    ...   ...   ...   ...   ...   ...   ...   ...   ...  \n",
       "2220     0     0     0     0     0     0     0     0     0  \n",
       "2221     0     0     0     0     0     0     0     0     0  \n",
       "2222     0     0     0     0     0     0     0     0     0  \n",
       "2223     0     0     0     0     0     0     0     0     0  \n",
       "2224     0     0     0     0     0     0     0     0     0  \n",
       "\n",
       "[2225 rows x 5000 columns]"
      ]
     },
     "execution_count": 14,
     "metadata": {},
     "output_type": "execute_result"
    }
   ],
   "source": [
    "feature_names=np.array(count_vect.get_feature_names())\n",
    "\n",
    "#text_all -> text data (after pre-processing)\n",
    "#text_bow -> word counts (bag of words)\n",
    "#Each row (0 to 2250) stands for one review\n",
    "#Each column (0 to 4999) stands for one word frequency appeared in the review.\n",
    "pd.DataFrame(text_bow.toarray())"
   ]
  },
  {
   "cell_type": "markdown",
   "metadata": {},
   "source": [
    "### 1.4 Transform Text Data: TF-IDF"
   ]
  },
  {
   "cell_type": "code",
   "execution_count": 15,
   "metadata": {},
   "outputs": [],
   "source": [
    "#Generate Tf-idf matrix \n",
    "\n",
    "tfidf_transformer=TfidfTransformer(smooth_idf=True, use_idf=True)\n",
    "text_tfidf = tfidf_transformer.fit_transform(text_bow)"
   ]
  },
  {
   "cell_type": "code",
   "execution_count": 16,
   "metadata": {},
   "outputs": [
    {
     "name": "stdout",
     "output_type": "stream",
     "text": [
      "Features with lowest idf:\n",
      "['according' 'six' 'public' 'help' 'bn' 'director' 'sale' 'based' 'report'\n",
      " 'record' 'called' 'life' 'business' 'british' 'international' 'issue'\n",
      " 'don' 'look' 'start' 'run' 'cost' 'decision' 'despite' 'half' 'london'\n",
      " 'mean' 'european' 'change' 'film' 'money' 'future' 'result' 're' 'seen'\n",
      " 'figure' 'spokesman' 'party' 'star' 'lot' 'deal' 'team' 'claim' 'analyst'\n",
      " 'executive' 'earlier' 'industry' 'action' 'term' 'final' 'britain'\n",
      " 'share' 'taking' 'able' 'national' 'saying' 'system' 'hope' 'europe'\n",
      " 'biggest' 'due' 'leader' 'lost' 'recent' 'level' 'technology' 'england'\n",
      " 'past' 'line' 'office' 'found' 'labour' 'cut' 'january' 'music' 'chance'\n",
      " 'price' 'website' 'offer' 'following' 'looking' 'programme' 'strong'\n",
      " 'major' 'job' 'growth' 'ahead' 'election' 'using' 'real' 'believe'\n",
      " 'michael' 'nation' 'currently' 'hard' 'return' 'rise' 'president'\n",
      " 'little' 'december' 'playing']\n"
     ]
    }
   ],
   "source": [
    "sorted_by_idf = np.argsort(tfidf_transformer.idf_)\n",
    "print(\"Features with lowest idf:\\n{}\".format(\n",
    "       feature_names[sorted_by_idf[:100]]))"
   ]
  },
  {
   "cell_type": "code",
   "execution_count": 17,
   "metadata": {},
   "outputs": [
    {
     "data": {
      "text/html": [
       "<div>\n",
       "<style scoped>\n",
       "    .dataframe tbody tr th:only-of-type {\n",
       "        vertical-align: middle;\n",
       "    }\n",
       "\n",
       "    .dataframe tbody tr th {\n",
       "        vertical-align: top;\n",
       "    }\n",
       "\n",
       "    .dataframe thead th {\n",
       "        text-align: right;\n",
       "    }\n",
       "</style>\n",
       "<table border=\"1\" class=\"dataframe\">\n",
       "  <thead>\n",
       "    <tr style=\"text-align: right;\">\n",
       "      <th></th>\n",
       "      <th>0</th>\n",
       "      <th>1</th>\n",
       "      <th>2</th>\n",
       "      <th>3</th>\n",
       "      <th>4</th>\n",
       "      <th>5</th>\n",
       "      <th>6</th>\n",
       "      <th>7</th>\n",
       "      <th>8</th>\n",
       "      <th>9</th>\n",
       "      <th>...</th>\n",
       "      <th>4990</th>\n",
       "      <th>4991</th>\n",
       "      <th>4992</th>\n",
       "      <th>4993</th>\n",
       "      <th>4994</th>\n",
       "      <th>4995</th>\n",
       "      <th>4996</th>\n",
       "      <th>4997</th>\n",
       "      <th>4998</th>\n",
       "      <th>4999</th>\n",
       "    </tr>\n",
       "  </thead>\n",
       "  <tbody>\n",
       "    <tr>\n",
       "      <th>0</th>\n",
       "      <td>0.0</td>\n",
       "      <td>0.0</td>\n",
       "      <td>0.0</td>\n",
       "      <td>0.0</td>\n",
       "      <td>0.00000</td>\n",
       "      <td>0.0</td>\n",
       "      <td>0.0</td>\n",
       "      <td>0.0</td>\n",
       "      <td>0.000000</td>\n",
       "      <td>0.0</td>\n",
       "      <td>...</td>\n",
       "      <td>0.0</td>\n",
       "      <td>0.0</td>\n",
       "      <td>0.0</td>\n",
       "      <td>0.0</td>\n",
       "      <td>0.0</td>\n",
       "      <td>0.0</td>\n",
       "      <td>0.0</td>\n",
       "      <td>0.0</td>\n",
       "      <td>0.0</td>\n",
       "      <td>0.0</td>\n",
       "    </tr>\n",
       "    <tr>\n",
       "      <th>1</th>\n",
       "      <td>0.0</td>\n",
       "      <td>0.0</td>\n",
       "      <td>0.0</td>\n",
       "      <td>0.0</td>\n",
       "      <td>0.04595</td>\n",
       "      <td>0.0</td>\n",
       "      <td>0.0</td>\n",
       "      <td>0.0</td>\n",
       "      <td>0.000000</td>\n",
       "      <td>0.0</td>\n",
       "      <td>...</td>\n",
       "      <td>0.0</td>\n",
       "      <td>0.0</td>\n",
       "      <td>0.0</td>\n",
       "      <td>0.0</td>\n",
       "      <td>0.0</td>\n",
       "      <td>0.0</td>\n",
       "      <td>0.0</td>\n",
       "      <td>0.0</td>\n",
       "      <td>0.0</td>\n",
       "      <td>0.0</td>\n",
       "    </tr>\n",
       "    <tr>\n",
       "      <th>2</th>\n",
       "      <td>0.0</td>\n",
       "      <td>0.0</td>\n",
       "      <td>0.0</td>\n",
       "      <td>0.0</td>\n",
       "      <td>0.00000</td>\n",
       "      <td>0.0</td>\n",
       "      <td>0.0</td>\n",
       "      <td>0.0</td>\n",
       "      <td>0.000000</td>\n",
       "      <td>0.0</td>\n",
       "      <td>...</td>\n",
       "      <td>0.0</td>\n",
       "      <td>0.0</td>\n",
       "      <td>0.0</td>\n",
       "      <td>0.0</td>\n",
       "      <td>0.0</td>\n",
       "      <td>0.0</td>\n",
       "      <td>0.0</td>\n",
       "      <td>0.0</td>\n",
       "      <td>0.0</td>\n",
       "      <td>0.0</td>\n",
       "    </tr>\n",
       "    <tr>\n",
       "      <th>3</th>\n",
       "      <td>0.0</td>\n",
       "      <td>0.0</td>\n",
       "      <td>0.0</td>\n",
       "      <td>0.0</td>\n",
       "      <td>0.00000</td>\n",
       "      <td>0.0</td>\n",
       "      <td>0.0</td>\n",
       "      <td>0.0</td>\n",
       "      <td>0.000000</td>\n",
       "      <td>0.0</td>\n",
       "      <td>...</td>\n",
       "      <td>0.0</td>\n",
       "      <td>0.0</td>\n",
       "      <td>0.0</td>\n",
       "      <td>0.0</td>\n",
       "      <td>0.0</td>\n",
       "      <td>0.0</td>\n",
       "      <td>0.0</td>\n",
       "      <td>0.0</td>\n",
       "      <td>0.0</td>\n",
       "      <td>0.0</td>\n",
       "    </tr>\n",
       "    <tr>\n",
       "      <th>4</th>\n",
       "      <td>0.0</td>\n",
       "      <td>0.0</td>\n",
       "      <td>0.0</td>\n",
       "      <td>0.0</td>\n",
       "      <td>0.00000</td>\n",
       "      <td>0.0</td>\n",
       "      <td>0.0</td>\n",
       "      <td>0.0</td>\n",
       "      <td>0.000000</td>\n",
       "      <td>0.0</td>\n",
       "      <td>...</td>\n",
       "      <td>0.0</td>\n",
       "      <td>0.0</td>\n",
       "      <td>0.0</td>\n",
       "      <td>0.0</td>\n",
       "      <td>0.0</td>\n",
       "      <td>0.0</td>\n",
       "      <td>0.0</td>\n",
       "      <td>0.0</td>\n",
       "      <td>0.0</td>\n",
       "      <td>0.0</td>\n",
       "    </tr>\n",
       "    <tr>\n",
       "      <th>...</th>\n",
       "      <td>...</td>\n",
       "      <td>...</td>\n",
       "      <td>...</td>\n",
       "      <td>...</td>\n",
       "      <td>...</td>\n",
       "      <td>...</td>\n",
       "      <td>...</td>\n",
       "      <td>...</td>\n",
       "      <td>...</td>\n",
       "      <td>...</td>\n",
       "      <td>...</td>\n",
       "      <td>...</td>\n",
       "      <td>...</td>\n",
       "      <td>...</td>\n",
       "      <td>...</td>\n",
       "      <td>...</td>\n",
       "      <td>...</td>\n",
       "      <td>...</td>\n",
       "      <td>...</td>\n",
       "      <td>...</td>\n",
       "      <td>...</td>\n",
       "    </tr>\n",
       "    <tr>\n",
       "      <th>2220</th>\n",
       "      <td>0.0</td>\n",
       "      <td>0.0</td>\n",
       "      <td>0.0</td>\n",
       "      <td>0.0</td>\n",
       "      <td>0.00000</td>\n",
       "      <td>0.0</td>\n",
       "      <td>0.0</td>\n",
       "      <td>0.0</td>\n",
       "      <td>0.000000</td>\n",
       "      <td>0.0</td>\n",
       "      <td>...</td>\n",
       "      <td>0.0</td>\n",
       "      <td>0.0</td>\n",
       "      <td>0.0</td>\n",
       "      <td>0.0</td>\n",
       "      <td>0.0</td>\n",
       "      <td>0.0</td>\n",
       "      <td>0.0</td>\n",
       "      <td>0.0</td>\n",
       "      <td>0.0</td>\n",
       "      <td>0.0</td>\n",
       "    </tr>\n",
       "    <tr>\n",
       "      <th>2221</th>\n",
       "      <td>0.0</td>\n",
       "      <td>0.0</td>\n",
       "      <td>0.0</td>\n",
       "      <td>0.0</td>\n",
       "      <td>0.00000</td>\n",
       "      <td>0.0</td>\n",
       "      <td>0.0</td>\n",
       "      <td>0.0</td>\n",
       "      <td>0.090775</td>\n",
       "      <td>0.0</td>\n",
       "      <td>...</td>\n",
       "      <td>0.0</td>\n",
       "      <td>0.0</td>\n",
       "      <td>0.0</td>\n",
       "      <td>0.0</td>\n",
       "      <td>0.0</td>\n",
       "      <td>0.0</td>\n",
       "      <td>0.0</td>\n",
       "      <td>0.0</td>\n",
       "      <td>0.0</td>\n",
       "      <td>0.0</td>\n",
       "    </tr>\n",
       "    <tr>\n",
       "      <th>2222</th>\n",
       "      <td>0.0</td>\n",
       "      <td>0.0</td>\n",
       "      <td>0.0</td>\n",
       "      <td>0.0</td>\n",
       "      <td>0.00000</td>\n",
       "      <td>0.0</td>\n",
       "      <td>0.0</td>\n",
       "      <td>0.0</td>\n",
       "      <td>0.000000</td>\n",
       "      <td>0.0</td>\n",
       "      <td>...</td>\n",
       "      <td>0.0</td>\n",
       "      <td>0.0</td>\n",
       "      <td>0.0</td>\n",
       "      <td>0.0</td>\n",
       "      <td>0.0</td>\n",
       "      <td>0.0</td>\n",
       "      <td>0.0</td>\n",
       "      <td>0.0</td>\n",
       "      <td>0.0</td>\n",
       "      <td>0.0</td>\n",
       "    </tr>\n",
       "    <tr>\n",
       "      <th>2223</th>\n",
       "      <td>0.0</td>\n",
       "      <td>0.0</td>\n",
       "      <td>0.0</td>\n",
       "      <td>0.0</td>\n",
       "      <td>0.00000</td>\n",
       "      <td>0.0</td>\n",
       "      <td>0.0</td>\n",
       "      <td>0.0</td>\n",
       "      <td>0.000000</td>\n",
       "      <td>0.0</td>\n",
       "      <td>...</td>\n",
       "      <td>0.0</td>\n",
       "      <td>0.0</td>\n",
       "      <td>0.0</td>\n",
       "      <td>0.0</td>\n",
       "      <td>0.0</td>\n",
       "      <td>0.0</td>\n",
       "      <td>0.0</td>\n",
       "      <td>0.0</td>\n",
       "      <td>0.0</td>\n",
       "      <td>0.0</td>\n",
       "    </tr>\n",
       "    <tr>\n",
       "      <th>2224</th>\n",
       "      <td>0.0</td>\n",
       "      <td>0.0</td>\n",
       "      <td>0.0</td>\n",
       "      <td>0.0</td>\n",
       "      <td>0.00000</td>\n",
       "      <td>0.0</td>\n",
       "      <td>0.0</td>\n",
       "      <td>0.0</td>\n",
       "      <td>0.000000</td>\n",
       "      <td>0.0</td>\n",
       "      <td>...</td>\n",
       "      <td>0.0</td>\n",
       "      <td>0.0</td>\n",
       "      <td>0.0</td>\n",
       "      <td>0.0</td>\n",
       "      <td>0.0</td>\n",
       "      <td>0.0</td>\n",
       "      <td>0.0</td>\n",
       "      <td>0.0</td>\n",
       "      <td>0.0</td>\n",
       "      <td>0.0</td>\n",
       "    </tr>\n",
       "  </tbody>\n",
       "</table>\n",
       "<p>2225 rows × 5000 columns</p>\n",
       "</div>"
      ],
      "text/plain": [
       "      0     1     2     3        4     5     6     7         8     9     ...  \\\n",
       "0      0.0   0.0   0.0   0.0  0.00000   0.0   0.0   0.0  0.000000   0.0  ...   \n",
       "1      0.0   0.0   0.0   0.0  0.04595   0.0   0.0   0.0  0.000000   0.0  ...   \n",
       "2      0.0   0.0   0.0   0.0  0.00000   0.0   0.0   0.0  0.000000   0.0  ...   \n",
       "3      0.0   0.0   0.0   0.0  0.00000   0.0   0.0   0.0  0.000000   0.0  ...   \n",
       "4      0.0   0.0   0.0   0.0  0.00000   0.0   0.0   0.0  0.000000   0.0  ...   \n",
       "...    ...   ...   ...   ...      ...   ...   ...   ...       ...   ...  ...   \n",
       "2220   0.0   0.0   0.0   0.0  0.00000   0.0   0.0   0.0  0.000000   0.0  ...   \n",
       "2221   0.0   0.0   0.0   0.0  0.00000   0.0   0.0   0.0  0.090775   0.0  ...   \n",
       "2222   0.0   0.0   0.0   0.0  0.00000   0.0   0.0   0.0  0.000000   0.0  ...   \n",
       "2223   0.0   0.0   0.0   0.0  0.00000   0.0   0.0   0.0  0.000000   0.0  ...   \n",
       "2224   0.0   0.0   0.0   0.0  0.00000   0.0   0.0   0.0  0.000000   0.0  ...   \n",
       "\n",
       "      4990  4991  4992  4993  4994  4995  4996  4997  4998  4999  \n",
       "0      0.0   0.0   0.0   0.0   0.0   0.0   0.0   0.0   0.0   0.0  \n",
       "1      0.0   0.0   0.0   0.0   0.0   0.0   0.0   0.0   0.0   0.0  \n",
       "2      0.0   0.0   0.0   0.0   0.0   0.0   0.0   0.0   0.0   0.0  \n",
       "3      0.0   0.0   0.0   0.0   0.0   0.0   0.0   0.0   0.0   0.0  \n",
       "4      0.0   0.0   0.0   0.0   0.0   0.0   0.0   0.0   0.0   0.0  \n",
       "...    ...   ...   ...   ...   ...   ...   ...   ...   ...   ...  \n",
       "2220   0.0   0.0   0.0   0.0   0.0   0.0   0.0   0.0   0.0   0.0  \n",
       "2221   0.0   0.0   0.0   0.0   0.0   0.0   0.0   0.0   0.0   0.0  \n",
       "2222   0.0   0.0   0.0   0.0   0.0   0.0   0.0   0.0   0.0   0.0  \n",
       "2223   0.0   0.0   0.0   0.0   0.0   0.0   0.0   0.0   0.0   0.0  \n",
       "2224   0.0   0.0   0.0   0.0   0.0   0.0   0.0   0.0   0.0   0.0  \n",
       "\n",
       "[2225 rows x 5000 columns]"
      ]
     },
     "execution_count": 17,
     "metadata": {},
     "output_type": "execute_result"
    }
   ],
   "source": [
    "#Each column stands for the tfidf value of a word amongst all documents\n",
    "#Each row stands for one review\n",
    "pd.DataFrame(text_tfidf.toarray())"
   ]
  },
  {
   "cell_type": "code",
   "execution_count": 18,
   "metadata": {},
   "outputs": [
    {
     "name": "stdout",
     "output_type": "stream",
     "text": [
      "Features with lowest tfidf:\n",
      "['etc' 'savvy' 'specification' 'navigate' 'instant' 'sadly' 'status'\n",
      " 'constantly' 'enforce' 'accepting' 'actual' 'maintaining' 'changing'\n",
      " 'offline' 'finnish' 'informed' 'tricky' 'dominant' 'amongst'\n",
      " 'credibility']\n",
      "Features with highest tfidf: \n",
      "['mirza' 'boeing' 'duran' 'feta' 'qantas' 'fiat' 'axa' 'domain' 'mtv'\n",
      " 'robot' 'mutu' 'dallaglio' 'regiment' 'casino' 'ballet' 'uwb' 'ink'\n",
      " 'blog' 'nestle' 'commodore']\n"
     ]
    }
   ],
   "source": [
    "# find maximum value for each of the features over dataset:\n",
    "max_value = text_tfidf.max(axis=0).toarray().ravel()\n",
    "sorted_by_tfidf = max_value.argsort()\n",
    "\n",
    "print(\"Features with lowest tfidf:\\n{}\".format(\n",
    "      feature_names[sorted_by_tfidf[:20]]))\n",
    "\n",
    "print(\"Features with highest tfidf: \\n{}\".format(\n",
    "      feature_names[sorted_by_tfidf[-20:]]))\n",
    "\n",
    "#The higher the tfidf, the more often a word appeared in the document but not very common amongst other documents,\n",
    "#The word is UNIQUE only in the document.\n"
   ]
  },
  {
   "cell_type": "markdown",
   "metadata": {},
   "source": [
    "## 2. Text Data Understanding"
   ]
  },
  {
   "cell_type": "markdown",
   "metadata": {},
   "source": [
    "### 2.1 Extract keywords using TF-IDF matrix"
   ]
  },
  {
   "cell_type": "code",
   "execution_count": 19,
   "metadata": {},
   "outputs": [],
   "source": [
    "#number of top keywords extracted\n",
    "topn = 10\n",
    "results =[]"
   ]
  },
  {
   "cell_type": "code",
   "execution_count": 20,
   "metadata": {},
   "outputs": [],
   "source": [
    "#Repeating the whole process early but this time for the entire 2250 text to extract top 10 keywords for each of them.\n",
    "for idx, doc in text_all.items():\n",
    "    #generate tf-idf for the given document\n",
    "    tf_idf_vector = text_tfidf[idx]\n",
    "    \n",
    "    temp = pd.DataFrame(zip(tf_idf_vector.tocoo().col, tf_idf_vector.tocoo().data),columns=['feature_number','tf_idf'])\n",
    "    temp.sort_values('tf_idf', ascending = False, inplace = True)\n",
    "    \n",
    "    #use only topn items from vector\n",
    "     \n",
    "    topn_items = temp[:topn]\n",
    "\n",
    "    tf_idfs = []\n",
    "    words = []\n",
    "\n",
    "    for index, row in topn_items.iterrows():\n",
    "        #print(int(row['feature_number']))\n",
    "        fname = feature_names[int(row['feature_number'])]\n",
    "        words.append(fname)\n",
    "        #tf_idfs.append(round(row['tf_idf'], 3))\n",
    "\n",
    "    #result = dict(zip(words, tf_idfs))\n",
    "    \n",
    "    results.append(words)"
   ]
  },
  {
   "cell_type": "code",
   "execution_count": 21,
   "metadata": {},
   "outputs": [
    {
     "name": "stdout",
     "output_type": "stream",
     "text": [
      "2225\n"
     ]
    }
   ],
   "source": [
    "print(len(results))"
   ]
  },
  {
   "cell_type": "code",
   "execution_count": 22,
   "metadata": {},
   "outputs": [
    {
     "data": {
      "text/html": [
       "<div>\n",
       "<style scoped>\n",
       "    .dataframe tbody tr th:only-of-type {\n",
       "        vertical-align: middle;\n",
       "    }\n",
       "\n",
       "    .dataframe tbody tr th {\n",
       "        vertical-align: top;\n",
       "    }\n",
       "\n",
       "    .dataframe thead th {\n",
       "        text-align: right;\n",
       "    }\n",
       "</style>\n",
       "<table border=\"1\" class=\"dataframe\">\n",
       "  <thead>\n",
       "    <tr style=\"text-align: right;\">\n",
       "      <th></th>\n",
       "      <th>category</th>\n",
       "      <th>text</th>\n",
       "      <th>cleansed_text</th>\n",
       "      <th>keywords</th>\n",
       "    </tr>\n",
       "  </thead>\n",
       "  <tbody>\n",
       "    <tr>\n",
       "      <th>0</th>\n",
       "      <td>tech</td>\n",
       "      <td>tv future in the hands of viewers with home th...</td>\n",
       "      <td>tv future hand viewer home theatre system plas...</td>\n",
       "      <td>[tv, brand, channel, definition, tivo, viewer,...</td>\n",
       "    </tr>\n",
       "    <tr>\n",
       "      <th>1</th>\n",
       "      <td>business</td>\n",
       "      <td>worldcom boss  left books alone  former worldc...</td>\n",
       "      <td>worldcom bos left book former worldcom bos ber...</td>\n",
       "      <td>[worldcom, ebbers, accounting, fraud, lawyer, ...</td>\n",
       "    </tr>\n",
       "    <tr>\n",
       "      <th>2</th>\n",
       "      <td>sport</td>\n",
       "      <td>tigers wary of farrell  gamble  leicester say ...</td>\n",
       "      <td>tiger wary farrell gamble leicester rushed bid...</td>\n",
       "      <td>[farrell, leicester, rugby, league, tiger, uni...</td>\n",
       "    </tr>\n",
       "    <tr>\n",
       "      <th>3</th>\n",
       "      <td>sport</td>\n",
       "      <td>yeading face newcastle in fa cup premiership s...</td>\n",
       "      <td>yeading newcastle fa cup premiership newcastle...</td>\n",
       "      <td>[league, west, cup, united, drawn, newcastle, ...</td>\n",
       "    </tr>\n",
       "    <tr>\n",
       "      <th>4</th>\n",
       "      <td>entertainment</td>\n",
       "      <td>ocean s twelve raids box office ocean s twelve...</td>\n",
       "      <td>ocean twelve raid box office ocean twelve crim...</td>\n",
       "      <td>[ocean, sequel, twelve, starring, box, office,...</td>\n",
       "    </tr>\n",
       "  </tbody>\n",
       "</table>\n",
       "</div>"
      ],
      "text/plain": [
       "        category                                               text  \\\n",
       "0           tech  tv future in the hands of viewers with home th...   \n",
       "1       business  worldcom boss  left books alone  former worldc...   \n",
       "2          sport  tigers wary of farrell  gamble  leicester say ...   \n",
       "3          sport  yeading face newcastle in fa cup premiership s...   \n",
       "4  entertainment  ocean s twelve raids box office ocean s twelve...   \n",
       "\n",
       "                                       cleansed_text  \\\n",
       "0  tv future hand viewer home theatre system plas...   \n",
       "1  worldcom bos left book former worldcom bos ber...   \n",
       "2  tiger wary farrell gamble leicester rushed bid...   \n",
       "3  yeading newcastle fa cup premiership newcastle...   \n",
       "4  ocean twelve raid box office ocean twelve crim...   \n",
       "\n",
       "                                            keywords  \n",
       "0  [tv, brand, channel, definition, tivo, viewer,...  \n",
       "1  [worldcom, ebbers, accounting, fraud, lawyer, ...  \n",
       "2  [farrell, leicester, rugby, league, tiger, uni...  \n",
       "3  [league, west, cup, united, drawn, newcastle, ...  \n",
       "4  [ocean, sequel, twelve, starring, box, office,...  "
      ]
     },
     "execution_count": 22,
     "metadata": {},
     "output_type": "execute_result"
    }
   ],
   "source": [
    "#Add a new column cleansed_text based on text_all\n",
    "dat['cleansed_text'] = text_all\n",
    "\n",
    "#Add a new column keyword based on result (from section 5.2)\n",
    "dat['keywords'] = results\n",
    "dat.head()"
   ]
  },
  {
   "cell_type": "markdown",
   "metadata": {},
   "source": [
    "### 2.2 Association Rule Mining on Keywords - Total"
   ]
  },
  {
   "cell_type": "code",
   "execution_count": 23,
   "metadata": {},
   "outputs": [],
   "source": [
    "keywords_all = []\n",
    "for i in results:\n",
    "    for x in i:\n",
    "        keywords_all.append(x)"
   ]
  },
  {
   "cell_type": "code",
   "execution_count": 24,
   "metadata": {},
   "outputs": [
    {
     "data": {
      "text/plain": [
       "0                tv\n",
       "1             brand\n",
       "2           channel\n",
       "3        definition\n",
       "4              tivo\n",
       "            ...    \n",
       "22245        please\n",
       "22246        graeme\n",
       "22247        record\n",
       "22248        anyway\n",
       "22249    goalkeeper\n",
       "Length: 22250, dtype: object"
      ]
     },
     "execution_count": 24,
     "metadata": {},
     "output_type": "execute_result"
    }
   ],
   "source": [
    "full_list = pd.Series(keywords_all)\n",
    "full_list"
   ]
  },
  {
   "cell_type": "code",
   "execution_count": 25,
   "metadata": {},
   "outputs": [
    {
     "data": {
      "image/png": "[encoded data removed]",
      "text/plain": [
       "<Figure size 1080x360 with 1 Axes>"
      ]
     },
     "metadata": {
      "needs_background": "light"
     },
     "output_type": "display_data"
    }
   ],
   "source": [
    "#Frequency of words with high tfidf score\n",
    "plt.figure(figsize=(15,5))\n",
    "full_list.value_counts().head(50).plot.bar()\n",
    "plt.title('frequency of words with high tfidf', fontsize = 20)\n",
    "plt.xticks(rotation = 90 )\n",
    "plt.grid()\n",
    "plt.show()"
   ]
  },
  {
   "cell_type": "code",
   "execution_count": 26,
   "metadata": {},
   "outputs": [
    {
     "data": {
      "text/plain": [
       "(2225, 4145)"
      ]
     },
     "execution_count": 26,
     "metadata": {},
     "output_type": "execute_result"
    }
   ],
   "source": [
    "from mlxtend.preprocessing import TransactionEncoder\n",
    "\n",
    "keyword_text = np.array(results)\n",
    "te = TransactionEncoder()\n",
    "keyword_encoded = te.fit_transform(keyword_text)\n",
    "keyword_encoded = pd.DataFrame(keyword_encoded, columns = te.columns_)\n",
    "\n",
    "# getting the shape of the data\n",
    "keyword_encoded.shape"
   ]
  },
  {
   "cell_type": "code",
   "execution_count": 27,
   "metadata": {},
   "outputs": [
    {
     "data": {
      "text/plain": [
       "455"
      ]
     },
     "execution_count": 27,
     "metadata": {},
     "output_type": "execute_result"
    }
   ],
   "source": [
    "#How many keywords that appeared more than 10 times\n",
    "count = sum([1 for i in full_list.value_counts() if i > 10])\n",
    "count"
   ]
  },
  {
   "cell_type": "code",
   "execution_count": 28,
   "metadata": {},
   "outputs": [
    {
     "data": {
      "text/plain": [
       "Index(['film', 'bn', 'election', 'labour', 'award', 'blair', 'party', 'music',\n",
       "       'tory', 'brown',\n",
       "       ...\n",
       "       'fund', 'celtic', 'rapper', 'parent', 'cash', 'factory', 'paid',\n",
       "       'common', 'played', 'uefa'],\n",
       "      dtype='object', length=455)"
      ]
     },
     "execution_count": 28,
     "metadata": {},
     "output_type": "execute_result"
    }
   ],
   "source": [
    "#Keywords that appeared more than 10 times \n",
    "y = full_list.value_counts().to_frame().sort_values(0, ascending=False).head(count)\n",
    "y.index"
   ]
  },
  {
   "cell_type": "code",
   "execution_count": 29,
   "metadata": {},
   "outputs": [
    {
     "data": {
      "text/plain": [
       "(2225, 455)"
      ]
     },
     "execution_count": 29,
     "metadata": {},
     "output_type": "execute_result"
    }
   ],
   "source": [
    "# getting correlations for 3067 keywords would be messy \n",
    "# so let's reduce it from 3067 to 172 first\n",
    "# these 172 keywords has appeared more than 10 times\n",
    "\n",
    "keyword_encoded = keyword_encoded.loc[:, y.index]\n",
    "\n",
    "# checking the shape\n",
    "keyword_encoded.shape"
   ]
  },
  {
   "cell_type": "code",
   "execution_count": 30,
   "metadata": {},
   "outputs": [],
   "source": [
    "#First, let us return the items and itemsets with at least 1% support:\n",
    "frequent_keywords=apriori(keyword_encoded, min_support = 0.01, use_colnames = True)"
   ]
  },
  {
   "cell_type": "code",
   "execution_count": 31,
   "metadata": {},
   "outputs": [
    {
     "data": {
      "text/html": [
       "<div>\n",
       "<style scoped>\n",
       "    .dataframe tbody tr th:only-of-type {\n",
       "        vertical-align: middle;\n",
       "    }\n",
       "\n",
       "    .dataframe tbody tr th {\n",
       "        vertical-align: top;\n",
       "    }\n",
       "\n",
       "    .dataframe thead th {\n",
       "        text-align: right;\n",
       "    }\n",
       "</style>\n",
       "<table border=\"1\" class=\"dataframe\">\n",
       "  <thead>\n",
       "    <tr style=\"text-align: right;\">\n",
       "      <th></th>\n",
       "      <th>antecedents</th>\n",
       "      <th>consequents</th>\n",
       "      <th>antecedent support</th>\n",
       "      <th>consequent support</th>\n",
       "      <th>support</th>\n",
       "      <th>confidence</th>\n",
       "      <th>lift</th>\n",
       "      <th>leverage</th>\n",
       "      <th>conviction</th>\n",
       "    </tr>\n",
       "  </thead>\n",
       "  <tbody>\n",
       "    <tr>\n",
       "      <th>4</th>\n",
       "      <td>(chancellor)</td>\n",
       "      <td>(brown)</td>\n",
       "      <td>0.016629</td>\n",
       "      <td>0.027865</td>\n",
       "      <td>0.013483</td>\n",
       "      <td>0.810811</td>\n",
       "      <td>29.097646</td>\n",
       "      <td>0.013020</td>\n",
       "      <td>5.138427</td>\n",
       "    </tr>\n",
       "    <tr>\n",
       "      <th>0</th>\n",
       "      <td>(oscar)</td>\n",
       "      <td>(film)</td>\n",
       "      <td>0.016180</td>\n",
       "      <td>0.059775</td>\n",
       "      <td>0.012135</td>\n",
       "      <td>0.750000</td>\n",
       "      <td>12.546992</td>\n",
       "      <td>0.011168</td>\n",
       "      <td>3.760899</td>\n",
       "    </tr>\n",
       "    <tr>\n",
       "      <th>3</th>\n",
       "      <td>(howard)</td>\n",
       "      <td>(tory)</td>\n",
       "      <td>0.017528</td>\n",
       "      <td>0.028315</td>\n",
       "      <td>0.011685</td>\n",
       "      <td>0.666667</td>\n",
       "      <td>23.544974</td>\n",
       "      <td>0.011189</td>\n",
       "      <td>2.915056</td>\n",
       "    </tr>\n",
       "    <tr>\n",
       "      <th>5</th>\n",
       "      <td>(phone)</td>\n",
       "      <td>(mobile)</td>\n",
       "      <td>0.025618</td>\n",
       "      <td>0.026517</td>\n",
       "      <td>0.015730</td>\n",
       "      <td>0.614035</td>\n",
       "      <td>23.156408</td>\n",
       "      <td>0.015051</td>\n",
       "      <td>2.522206</td>\n",
       "    </tr>\n",
       "    <tr>\n",
       "      <th>6</th>\n",
       "      <td>(mobile)</td>\n",
       "      <td>(phone)</td>\n",
       "      <td>0.026517</td>\n",
       "      <td>0.025618</td>\n",
       "      <td>0.015730</td>\n",
       "      <td>0.593220</td>\n",
       "      <td>23.156408</td>\n",
       "      <td>0.015051</td>\n",
       "      <td>2.395356</td>\n",
       "    </tr>\n",
       "    <tr>\n",
       "      <th>2</th>\n",
       "      <td>(labour)</td>\n",
       "      <td>(election)</td>\n",
       "      <td>0.039551</td>\n",
       "      <td>0.043596</td>\n",
       "      <td>0.022921</td>\n",
       "      <td>0.579545</td>\n",
       "      <td>13.293697</td>\n",
       "      <td>0.021197</td>\n",
       "      <td>2.274692</td>\n",
       "    </tr>\n",
       "    <tr>\n",
       "      <th>1</th>\n",
       "      <td>(election)</td>\n",
       "      <td>(labour)</td>\n",
       "      <td>0.043596</td>\n",
       "      <td>0.039551</td>\n",
       "      <td>0.022921</td>\n",
       "      <td>0.525773</td>\n",
       "      <td>13.293697</td>\n",
       "      <td>0.021197</td>\n",
       "      <td>2.025296</td>\n",
       "    </tr>\n",
       "    <tr>\n",
       "      <th>7</th>\n",
       "      <td>(growth)</td>\n",
       "      <td>(economy)</td>\n",
       "      <td>0.023371</td>\n",
       "      <td>0.025169</td>\n",
       "      <td>0.012135</td>\n",
       "      <td>0.519231</td>\n",
       "      <td>20.630151</td>\n",
       "      <td>0.011547</td>\n",
       "      <td>2.027649</td>\n",
       "    </tr>\n",
       "  </tbody>\n",
       "</table>\n",
       "</div>"
      ],
      "text/plain": [
       "    antecedents consequents  antecedent support  consequent support   support  \\\n",
       "4  (chancellor)     (brown)            0.016629            0.027865  0.013483   \n",
       "0       (oscar)      (film)            0.016180            0.059775  0.012135   \n",
       "3      (howard)      (tory)            0.017528            0.028315  0.011685   \n",
       "5       (phone)    (mobile)            0.025618            0.026517  0.015730   \n",
       "6      (mobile)     (phone)            0.026517            0.025618  0.015730   \n",
       "2      (labour)  (election)            0.039551            0.043596  0.022921   \n",
       "1    (election)    (labour)            0.043596            0.039551  0.022921   \n",
       "7      (growth)   (economy)            0.023371            0.025169  0.012135   \n",
       "\n",
       "   confidence       lift  leverage  conviction  \n",
       "4    0.810811  29.097646  0.013020    5.138427  \n",
       "0    0.750000  12.546992  0.011168    3.760899  \n",
       "3    0.666667  23.544974  0.011189    2.915056  \n",
       "5    0.614035  23.156408  0.015051    2.522206  \n",
       "6    0.593220  23.156408  0.015051    2.395356  \n",
       "2    0.579545  13.293697  0.021197    2.274692  \n",
       "1    0.525773  13.293697  0.021197    2.025296  \n",
       "7    0.519231  20.630151  0.011547    2.027649  "
      ]
     },
     "execution_count": 31,
     "metadata": {},
     "output_type": "execute_result"
    }
   ],
   "source": [
    "rules_c = association_rules(frequent_keywords, metric=\"confidence\", min_threshold=0.5)\n",
    "rules_c.sort_values('confidence', ascending = False, inplace = True)\n",
    "rules_c.head(10)"
   ]
  },
  {
   "cell_type": "code",
   "execution_count": 32,
   "metadata": {},
   "outputs": [
    {
     "data": {
      "text/plain": [
       "<AxesSubplot:>"
      ]
     },
     "execution_count": 32,
     "metadata": {},
     "output_type": "execute_result"
    },
    {
     "data": {
      "image/png": "[encoded data removed]",
      "text/plain": [
       "<Figure size 432x288 with 1 Axes>"
      ]
     },
     "metadata": {
      "needs_background": "light"
     },
     "output_type": "display_data"
    }
   ],
   "source": [
    "rules_c[['confidence']].boxplot()"
   ]
  },
  {
   "cell_type": "markdown",
   "metadata": {},
   "source": [
    "### 2.3 Association Rules Mining on Keywords - By category"
   ]
  },
  {
   "cell_type": "markdown",
   "metadata": {},
   "source": [
    "#### 1. Sports "
   ]
  },
  {
   "cell_type": "code",
   "execution_count": 33,
   "metadata": {},
   "outputs": [
    {
     "data": {
      "text/plain": [
       "(511, 1481)"
      ]
     },
     "execution_count": 33,
     "metadata": {},
     "output_type": "execute_result"
    }
   ],
   "source": [
    "#Filter out all sports keywords in a dataframe\n",
    "sorted_values = dat.query('category==\"sport\"')['keywords']\n",
    "\n",
    "keyword_sport = []\n",
    "for i in sorted_values:\n",
    "    keyword_sport.append(i)\n",
    "    \n",
    "keyword_sport = np.array(keyword_sport)\n",
    "\n",
    "te_sport = TransactionEncoder()\n",
    "keyword_sport_encoded = te_sport.fit_transform(keyword_sport)\n",
    "keyword_sport_encoded = pd.DataFrame(keyword_sport_encoded, columns = te_sport.columns_)\n",
    "\n",
    "# getting the shape of the data\n",
    "keyword_sport_encoded.shape\n",
    "\n"
   ]
  },
  {
   "cell_type": "code",
   "execution_count": 34,
   "metadata": {},
   "outputs": [
    {
     "data": {
      "text/html": [
       "<div>\n",
       "<style scoped>\n",
       "    .dataframe tbody tr th:only-of-type {\n",
       "        vertical-align: middle;\n",
       "    }\n",
       "\n",
       "    .dataframe tbody tr th {\n",
       "        vertical-align: top;\n",
       "    }\n",
       "\n",
       "    .dataframe thead th {\n",
       "        text-align: right;\n",
       "    }\n",
       "</style>\n",
       "<table border=\"1\" class=\"dataframe\">\n",
       "  <thead>\n",
       "    <tr style=\"text-align: right;\">\n",
       "      <th></th>\n",
       "      <th>antecedents</th>\n",
       "      <th>consequents</th>\n",
       "      <th>antecedent support</th>\n",
       "      <th>consequent support</th>\n",
       "      <th>support</th>\n",
       "      <th>confidence</th>\n",
       "      <th>lift</th>\n",
       "      <th>leverage</th>\n",
       "      <th>conviction</th>\n",
       "    </tr>\n",
       "  </thead>\n",
       "  <tbody>\n",
       "    <tr>\n",
       "      <th>0</th>\n",
       "      <td>(benitez)</td>\n",
       "      <td>(liverpool)</td>\n",
       "      <td>0.021526</td>\n",
       "      <td>0.045010</td>\n",
       "      <td>0.021526</td>\n",
       "      <td>1.0</td>\n",
       "      <td>22.217391</td>\n",
       "      <td>0.020558</td>\n",
       "      <td>inf</td>\n",
       "    </tr>\n",
       "    <tr>\n",
       "      <th>98</th>\n",
       "      <td>(greek, thanou, test)</td>\n",
       "      <td>(kenteris)</td>\n",
       "      <td>0.019569</td>\n",
       "      <td>0.027397</td>\n",
       "      <td>0.019569</td>\n",
       "      <td>1.0</td>\n",
       "      <td>36.500000</td>\n",
       "      <td>0.019033</td>\n",
       "      <td>inf</td>\n",
       "    </tr>\n",
       "    <tr>\n",
       "      <th>110</th>\n",
       "      <td>(kenteris, iaaf, test)</td>\n",
       "      <td>(thanou)</td>\n",
       "      <td>0.019569</td>\n",
       "      <td>0.027397</td>\n",
       "      <td>0.019569</td>\n",
       "      <td>1.0</td>\n",
       "      <td>36.500000</td>\n",
       "      <td>0.019033</td>\n",
       "      <td>inf</td>\n",
       "    </tr>\n",
       "    <tr>\n",
       "      <th>29</th>\n",
       "      <td>(greek, iaaf)</td>\n",
       "      <td>(kenteris)</td>\n",
       "      <td>0.019569</td>\n",
       "      <td>0.027397</td>\n",
       "      <td>0.019569</td>\n",
       "      <td>1.0</td>\n",
       "      <td>36.500000</td>\n",
       "      <td>0.019033</td>\n",
       "      <td>inf</td>\n",
       "    </tr>\n",
       "    <tr>\n",
       "      <th>34</th>\n",
       "      <td>(greek, iaaf)</td>\n",
       "      <td>(thanou)</td>\n",
       "      <td>0.019569</td>\n",
       "      <td>0.027397</td>\n",
       "      <td>0.019569</td>\n",
       "      <td>1.0</td>\n",
       "      <td>36.500000</td>\n",
       "      <td>0.019033</td>\n",
       "      <td>inf</td>\n",
       "    </tr>\n",
       "    <tr>\n",
       "      <th>41</th>\n",
       "      <td>(greek, test)</td>\n",
       "      <td>(kenteris)</td>\n",
       "      <td>0.019569</td>\n",
       "      <td>0.027397</td>\n",
       "      <td>0.019569</td>\n",
       "      <td>1.0</td>\n",
       "      <td>36.500000</td>\n",
       "      <td>0.019033</td>\n",
       "      <td>inf</td>\n",
       "    </tr>\n",
       "    <tr>\n",
       "      <th>46</th>\n",
       "      <td>(greek, kenteris)</td>\n",
       "      <td>(thanou)</td>\n",
       "      <td>0.023483</td>\n",
       "      <td>0.027397</td>\n",
       "      <td>0.023483</td>\n",
       "      <td>1.0</td>\n",
       "      <td>36.500000</td>\n",
       "      <td>0.022840</td>\n",
       "      <td>inf</td>\n",
       "    </tr>\n",
       "    <tr>\n",
       "      <th>47</th>\n",
       "      <td>(greek, thanou)</td>\n",
       "      <td>(kenteris)</td>\n",
       "      <td>0.023483</td>\n",
       "      <td>0.027397</td>\n",
       "      <td>0.023483</td>\n",
       "      <td>1.0</td>\n",
       "      <td>36.500000</td>\n",
       "      <td>0.022840</td>\n",
       "      <td>inf</td>\n",
       "    </tr>\n",
       "    <tr>\n",
       "      <th>49</th>\n",
       "      <td>(greek)</td>\n",
       "      <td>(kenteris, thanou)</td>\n",
       "      <td>0.023483</td>\n",
       "      <td>0.027397</td>\n",
       "      <td>0.023483</td>\n",
       "      <td>1.0</td>\n",
       "      <td>36.500000</td>\n",
       "      <td>0.022840</td>\n",
       "      <td>inf</td>\n",
       "    </tr>\n",
       "    <tr>\n",
       "      <th>52</th>\n",
       "      <td>(greek, test)</td>\n",
       "      <td>(thanou)</td>\n",
       "      <td>0.019569</td>\n",
       "      <td>0.027397</td>\n",
       "      <td>0.019569</td>\n",
       "      <td>1.0</td>\n",
       "      <td>36.500000</td>\n",
       "      <td>0.019033</td>\n",
       "      <td>inf</td>\n",
       "    </tr>\n",
       "  </tbody>\n",
       "</table>\n",
       "</div>"
      ],
      "text/plain": [
       "                antecedents         consequents  antecedent support  \\\n",
       "0                 (benitez)         (liverpool)            0.021526   \n",
       "98    (greek, thanou, test)          (kenteris)            0.019569   \n",
       "110  (kenteris, iaaf, test)            (thanou)            0.019569   \n",
       "29            (greek, iaaf)          (kenteris)            0.019569   \n",
       "34            (greek, iaaf)            (thanou)            0.019569   \n",
       "41            (greek, test)          (kenteris)            0.019569   \n",
       "46        (greek, kenteris)            (thanou)            0.023483   \n",
       "47          (greek, thanou)          (kenteris)            0.023483   \n",
       "49                  (greek)  (kenteris, thanou)            0.023483   \n",
       "52            (greek, test)            (thanou)            0.019569   \n",
       "\n",
       "     consequent support   support  confidence       lift  leverage  conviction  \n",
       "0              0.045010  0.021526         1.0  22.217391  0.020558         inf  \n",
       "98             0.027397  0.019569         1.0  36.500000  0.019033         inf  \n",
       "110            0.027397  0.019569         1.0  36.500000  0.019033         inf  \n",
       "29             0.027397  0.019569         1.0  36.500000  0.019033         inf  \n",
       "34             0.027397  0.019569         1.0  36.500000  0.019033         inf  \n",
       "41             0.027397  0.019569         1.0  36.500000  0.019033         inf  \n",
       "46             0.027397  0.023483         1.0  36.500000  0.022840         inf  \n",
       "47             0.027397  0.023483         1.0  36.500000  0.022840         inf  \n",
       "49             0.027397  0.023483         1.0  36.500000  0.022840         inf  \n",
       "52             0.027397  0.019569         1.0  36.500000  0.019033         inf  "
      ]
     },
     "execution_count": 34,
     "metadata": {},
     "output_type": "execute_result"
    }
   ],
   "source": [
    "frequent_keywords_sport = apriori(keyword_sport_encoded, min_support = 0.018, use_colnames = True)\n",
    "\n",
    "rules_c_sport = association_rules(frequent_keywords_sport, metric=\"confidence\", min_threshold=0.5)\n",
    "rules_c_sport.sort_values('confidence', ascending = False, inplace = True)\n",
    "\n",
    "rules_c_sport[ (rules_c_sport['lift'] > 5)].head(10)"
   ]
  },
  {
   "cell_type": "code",
   "execution_count": 35,
   "metadata": {},
   "outputs": [
    {
     "data": {
      "text/plain": [
       "<AxesSubplot:>"
      ]
     },
     "execution_count": 35,
     "metadata": {},
     "output_type": "execute_result"
    },
    {
     "data": {
      "image/png": "[encoded data removed]",
      "text/plain": [
       "<Figure size 432x288 with 1 Axes>"
      ]
     },
     "metadata": {
      "needs_background": "light"
     },
     "output_type": "display_data"
    }
   ],
   "source": [
    "rules_c_sport[['confidence']].boxplot()"
   ]
  },
  {
   "cell_type": "markdown",
   "metadata": {},
   "source": [
    "#### 2. Business"
   ]
  },
  {
   "cell_type": "code",
   "execution_count": 36,
   "metadata": {},
   "outputs": [
    {
     "data": {
      "text/plain": [
       "(510, 1595)"
      ]
     },
     "execution_count": 36,
     "metadata": {},
     "output_type": "execute_result"
    }
   ],
   "source": [
    "#Filter out all sports keywords in a dataframe\n",
    "sorted_values = dat.query('category==\"business\"')['keywords']\n",
    "\n",
    "keyword_business = []\n",
    "for i in sorted_values:\n",
    "    keyword_business.append(i)\n",
    "    \n",
    "keyword_business = np.array(keyword_business)\n",
    "\n",
    "te_business = TransactionEncoder()\n",
    "keyword_business_encoded = te_business.fit_transform(keyword_business)\n",
    "keyword_business_encoded = pd.DataFrame(keyword_business_encoded, columns = te_business.columns_)\n",
    "\n",
    "keyword_business_encoded.shape"
   ]
  },
  {
   "cell_type": "code",
   "execution_count": 37,
   "metadata": {},
   "outputs": [
    {
     "data": {
      "text/html": [
       "<div>\n",
       "<style scoped>\n",
       "    .dataframe tbody tr th:only-of-type {\n",
       "        vertical-align: middle;\n",
       "    }\n",
       "\n",
       "    .dataframe tbody tr th {\n",
       "        vertical-align: top;\n",
       "    }\n",
       "\n",
       "    .dataframe thead th {\n",
       "        text-align: right;\n",
       "    }\n",
       "</style>\n",
       "<table border=\"1\" class=\"dataframe\">\n",
       "  <thead>\n",
       "    <tr style=\"text-align: right;\">\n",
       "      <th></th>\n",
       "      <th>antecedents</th>\n",
       "      <th>consequents</th>\n",
       "      <th>antecedent support</th>\n",
       "      <th>consequent support</th>\n",
       "      <th>support</th>\n",
       "      <th>confidence</th>\n",
       "      <th>lift</th>\n",
       "      <th>leverage</th>\n",
       "      <th>conviction</th>\n",
       "    </tr>\n",
       "  </thead>\n",
       "  <tbody>\n",
       "    <tr>\n",
       "      <th>6</th>\n",
       "      <td>(russian)</td>\n",
       "      <td>(yukos)</td>\n",
       "      <td>0.043137</td>\n",
       "      <td>0.047059</td>\n",
       "      <td>0.037255</td>\n",
       "      <td>0.863636</td>\n",
       "      <td>18.352273</td>\n",
       "      <td>0.035225</td>\n",
       "      <td>6.988235</td>\n",
       "    </tr>\n",
       "    <tr>\n",
       "      <th>7</th>\n",
       "      <td>(yukos)</td>\n",
       "      <td>(russian)</td>\n",
       "      <td>0.047059</td>\n",
       "      <td>0.043137</td>\n",
       "      <td>0.037255</td>\n",
       "      <td>0.791667</td>\n",
       "      <td>18.352273</td>\n",
       "      <td>0.035225</td>\n",
       "      <td>4.592941</td>\n",
       "    </tr>\n",
       "    <tr>\n",
       "      <th>2</th>\n",
       "      <td>(growth)</td>\n",
       "      <td>(economy)</td>\n",
       "      <td>0.100000</td>\n",
       "      <td>0.103922</td>\n",
       "      <td>0.052941</td>\n",
       "      <td>0.529412</td>\n",
       "      <td>5.094340</td>\n",
       "      <td>0.042549</td>\n",
       "      <td>1.904167</td>\n",
       "    </tr>\n",
       "    <tr>\n",
       "      <th>1</th>\n",
       "      <td>(economy)</td>\n",
       "      <td>(growth)</td>\n",
       "      <td>0.103922</td>\n",
       "      <td>0.100000</td>\n",
       "      <td>0.052941</td>\n",
       "      <td>0.509434</td>\n",
       "      <td>5.094340</td>\n",
       "      <td>0.042549</td>\n",
       "      <td>1.834615</td>\n",
       "    </tr>\n",
       "    <tr>\n",
       "      <th>5</th>\n",
       "      <td>(rate)</td>\n",
       "      <td>(growth)</td>\n",
       "      <td>0.090196</td>\n",
       "      <td>0.100000</td>\n",
       "      <td>0.041176</td>\n",
       "      <td>0.456522</td>\n",
       "      <td>4.565217</td>\n",
       "      <td>0.032157</td>\n",
       "      <td>1.656000</td>\n",
       "    </tr>\n",
       "    <tr>\n",
       "      <th>0</th>\n",
       "      <td>(profit)</td>\n",
       "      <td>(bn)</td>\n",
       "      <td>0.086275</td>\n",
       "      <td>0.188235</td>\n",
       "      <td>0.037255</td>\n",
       "      <td>0.431818</td>\n",
       "      <td>2.294034</td>\n",
       "      <td>0.021015</td>\n",
       "      <td>1.428706</td>\n",
       "    </tr>\n",
       "    <tr>\n",
       "      <th>3</th>\n",
       "      <td>(rate)</td>\n",
       "      <td>(economy)</td>\n",
       "      <td>0.090196</td>\n",
       "      <td>0.103922</td>\n",
       "      <td>0.037255</td>\n",
       "      <td>0.413043</td>\n",
       "      <td>3.974569</td>\n",
       "      <td>0.027882</td>\n",
       "      <td>1.526652</td>\n",
       "    </tr>\n",
       "    <tr>\n",
       "      <th>4</th>\n",
       "      <td>(growth)</td>\n",
       "      <td>(rate)</td>\n",
       "      <td>0.100000</td>\n",
       "      <td>0.090196</td>\n",
       "      <td>0.041176</td>\n",
       "      <td>0.411765</td>\n",
       "      <td>4.565217</td>\n",
       "      <td>0.032157</td>\n",
       "      <td>1.546667</td>\n",
       "    </tr>\n",
       "  </tbody>\n",
       "</table>\n",
       "</div>"
      ],
      "text/plain": [
       "  antecedents consequents  antecedent support  consequent support   support  \\\n",
       "6   (russian)     (yukos)            0.043137            0.047059  0.037255   \n",
       "7     (yukos)   (russian)            0.047059            0.043137  0.037255   \n",
       "2    (growth)   (economy)            0.100000            0.103922  0.052941   \n",
       "1   (economy)    (growth)            0.103922            0.100000  0.052941   \n",
       "5      (rate)    (growth)            0.090196            0.100000  0.041176   \n",
       "0    (profit)        (bn)            0.086275            0.188235  0.037255   \n",
       "3      (rate)   (economy)            0.090196            0.103922  0.037255   \n",
       "4    (growth)      (rate)            0.100000            0.090196  0.041176   \n",
       "\n",
       "   confidence       lift  leverage  conviction  \n",
       "6    0.863636  18.352273  0.035225    6.988235  \n",
       "7    0.791667  18.352273  0.035225    4.592941  \n",
       "2    0.529412   5.094340  0.042549    1.904167  \n",
       "1    0.509434   5.094340  0.042549    1.834615  \n",
       "5    0.456522   4.565217  0.032157    1.656000  \n",
       "0    0.431818   2.294034  0.021015    1.428706  \n",
       "3    0.413043   3.974569  0.027882    1.526652  \n",
       "4    0.411765   4.565217  0.032157    1.546667  "
      ]
     },
     "execution_count": 37,
     "metadata": {},
     "output_type": "execute_result"
    }
   ],
   "source": [
    "frequent_keywords_business = apriori(keyword_business_encoded, min_support = 0.032, use_colnames = True)\n",
    "\n",
    "rules_c_business = association_rules(frequent_keywords_business, metric=\"confidence\", min_threshold=0.4)\n",
    "rules_c_business.sort_values('confidence', ascending = False, inplace = True)\n",
    "\n",
    "rules_c_business[ (rules_c_business['lift'] >= 2) ].head(10)"
   ]
  },
  {
   "cell_type": "code",
   "execution_count": 38,
   "metadata": {},
   "outputs": [
    {
     "data": {
      "text/plain": [
       "<AxesSubplot:>"
      ]
     },
     "execution_count": 38,
     "metadata": {},
     "output_type": "execute_result"
    },
    {
     "data": {
      "image/png": "[encoded data removed]",
      "text/plain": [
       "<Figure size 432x288 with 1 Axes>"
      ]
     },
     "metadata": {
      "needs_background": "light"
     },
     "output_type": "display_data"
    }
   ],
   "source": [
    "rules_c_business[['confidence']].boxplot()"
   ]
  },
  {
   "cell_type": "markdown",
   "metadata": {},
   "source": [
    "#### 3. Politics"
   ]
  },
  {
   "cell_type": "code",
   "execution_count": 39,
   "metadata": {},
   "outputs": [
    {
     "data": {
      "text/plain": [
       "(417, 1416)"
      ]
     },
     "execution_count": 39,
     "metadata": {},
     "output_type": "execute_result"
    }
   ],
   "source": [
    "#Filter out all sports keywords in a dataframe\n",
    "sorted_values = dat.query('category==\"politics\"')['keywords']\n",
    "\n",
    "keyword_politics = []\n",
    "for i in sorted_values:\n",
    "    keyword_politics.append(i)\n",
    "    \n",
    "keyword_politics = np.array(keyword_politics)\n",
    "\n",
    "te_politics = TransactionEncoder()\n",
    "keyword_politics_encoded = te_politics.fit_transform(keyword_politics)\n",
    "keyword_politics_encoded = pd.DataFrame(keyword_politics_encoded, columns = te_politics.columns_)\n",
    "\n",
    "keyword_politics_encoded.shape"
   ]
  },
  {
   "cell_type": "code",
   "execution_count": 40,
   "metadata": {},
   "outputs": [
    {
     "data": {
      "text/html": [
       "<div>\n",
       "<style scoped>\n",
       "    .dataframe tbody tr th:only-of-type {\n",
       "        vertical-align: middle;\n",
       "    }\n",
       "\n",
       "    .dataframe tbody tr th {\n",
       "        vertical-align: top;\n",
       "    }\n",
       "\n",
       "    .dataframe thead th {\n",
       "        text-align: right;\n",
       "    }\n",
       "</style>\n",
       "<table border=\"1\" class=\"dataframe\">\n",
       "  <thead>\n",
       "    <tr style=\"text-align: right;\">\n",
       "      <th></th>\n",
       "      <th>antecedents</th>\n",
       "      <th>consequents</th>\n",
       "      <th>antecedent support</th>\n",
       "      <th>consequent support</th>\n",
       "      <th>support</th>\n",
       "      <th>confidence</th>\n",
       "      <th>lift</th>\n",
       "      <th>leverage</th>\n",
       "      <th>conviction</th>\n",
       "    </tr>\n",
       "  </thead>\n",
       "  <tbody>\n",
       "    <tr>\n",
       "      <th>2</th>\n",
       "      <td>(prime)</td>\n",
       "      <td>(blair)</td>\n",
       "      <td>0.064748</td>\n",
       "      <td>0.172662</td>\n",
       "      <td>0.052758</td>\n",
       "      <td>0.814815</td>\n",
       "      <td>4.719136</td>\n",
       "      <td>0.041578</td>\n",
       "      <td>4.467626</td>\n",
       "    </tr>\n",
       "    <tr>\n",
       "      <th>3</th>\n",
       "      <td>(chancellor)</td>\n",
       "      <td>(brown)</td>\n",
       "      <td>0.088729</td>\n",
       "      <td>0.122302</td>\n",
       "      <td>0.071942</td>\n",
       "      <td>0.810811</td>\n",
       "      <td>6.629571</td>\n",
       "      <td>0.061091</td>\n",
       "      <td>4.639260</td>\n",
       "    </tr>\n",
       "    <tr>\n",
       "      <th>10</th>\n",
       "      <td>(howard)</td>\n",
       "      <td>(tory)</td>\n",
       "      <td>0.088729</td>\n",
       "      <td>0.151079</td>\n",
       "      <td>0.062350</td>\n",
       "      <td>0.702703</td>\n",
       "      <td>4.651223</td>\n",
       "      <td>0.048945</td>\n",
       "      <td>2.855461</td>\n",
       "    </tr>\n",
       "    <tr>\n",
       "      <th>4</th>\n",
       "      <td>(brown)</td>\n",
       "      <td>(chancellor)</td>\n",
       "      <td>0.122302</td>\n",
       "      <td>0.088729</td>\n",
       "      <td>0.071942</td>\n",
       "      <td>0.588235</td>\n",
       "      <td>6.629571</td>\n",
       "      <td>0.061091</td>\n",
       "      <td>2.213087</td>\n",
       "    </tr>\n",
       "    <tr>\n",
       "      <th>8</th>\n",
       "      <td>(labour)</td>\n",
       "      <td>(election)</td>\n",
       "      <td>0.206235</td>\n",
       "      <td>0.218225</td>\n",
       "      <td>0.119904</td>\n",
       "      <td>0.581395</td>\n",
       "      <td>2.664196</td>\n",
       "      <td>0.074898</td>\n",
       "      <td>1.867573</td>\n",
       "    </tr>\n",
       "    <tr>\n",
       "      <th>7</th>\n",
       "      <td>(election)</td>\n",
       "      <td>(labour)</td>\n",
       "      <td>0.218225</td>\n",
       "      <td>0.206235</td>\n",
       "      <td>0.119904</td>\n",
       "      <td>0.549451</td>\n",
       "      <td>2.664196</td>\n",
       "      <td>0.074898</td>\n",
       "      <td>1.761771</td>\n",
       "    </tr>\n",
       "    <tr>\n",
       "      <th>6</th>\n",
       "      <td>(brown)</td>\n",
       "      <td>(labour)</td>\n",
       "      <td>0.122302</td>\n",
       "      <td>0.206235</td>\n",
       "      <td>0.064748</td>\n",
       "      <td>0.529412</td>\n",
       "      <td>2.567031</td>\n",
       "      <td>0.039525</td>\n",
       "      <td>1.686751</td>\n",
       "    </tr>\n",
       "    <tr>\n",
       "      <th>5</th>\n",
       "      <td>(brown)</td>\n",
       "      <td>(election)</td>\n",
       "      <td>0.122302</td>\n",
       "      <td>0.218225</td>\n",
       "      <td>0.059952</td>\n",
       "      <td>0.490196</td>\n",
       "      <td>2.246283</td>\n",
       "      <td>0.033263</td>\n",
       "      <td>1.533481</td>\n",
       "    </tr>\n",
       "    <tr>\n",
       "      <th>9</th>\n",
       "      <td>(party)</td>\n",
       "      <td>(election)</td>\n",
       "      <td>0.167866</td>\n",
       "      <td>0.218225</td>\n",
       "      <td>0.079137</td>\n",
       "      <td>0.471429</td>\n",
       "      <td>2.160283</td>\n",
       "      <td>0.042504</td>\n",
       "      <td>1.479033</td>\n",
       "    </tr>\n",
       "    <tr>\n",
       "      <th>13</th>\n",
       "      <td>(tory)</td>\n",
       "      <td>(labour)</td>\n",
       "      <td>0.151079</td>\n",
       "      <td>0.206235</td>\n",
       "      <td>0.067146</td>\n",
       "      <td>0.444444</td>\n",
       "      <td>2.155039</td>\n",
       "      <td>0.035988</td>\n",
       "      <td>1.428777</td>\n",
       "    </tr>\n",
       "  </tbody>\n",
       "</table>\n",
       "</div>"
      ],
      "text/plain": [
       "     antecedents   consequents  antecedent support  consequent support  \\\n",
       "2        (prime)       (blair)            0.064748            0.172662   \n",
       "3   (chancellor)       (brown)            0.088729            0.122302   \n",
       "10      (howard)        (tory)            0.088729            0.151079   \n",
       "4        (brown)  (chancellor)            0.122302            0.088729   \n",
       "8       (labour)    (election)            0.206235            0.218225   \n",
       "7     (election)      (labour)            0.218225            0.206235   \n",
       "6        (brown)      (labour)            0.122302            0.206235   \n",
       "5        (brown)    (election)            0.122302            0.218225   \n",
       "9        (party)    (election)            0.167866            0.218225   \n",
       "13        (tory)      (labour)            0.151079            0.206235   \n",
       "\n",
       "     support  confidence      lift  leverage  conviction  \n",
       "2   0.052758    0.814815  4.719136  0.041578    4.467626  \n",
       "3   0.071942    0.810811  6.629571  0.061091    4.639260  \n",
       "10  0.062350    0.702703  4.651223  0.048945    2.855461  \n",
       "4   0.071942    0.588235  6.629571  0.061091    2.213087  \n",
       "8   0.119904    0.581395  2.664196  0.074898    1.867573  \n",
       "7   0.119904    0.549451  2.664196  0.074898    1.761771  \n",
       "6   0.064748    0.529412  2.567031  0.039525    1.686751  \n",
       "5   0.059952    0.490196  2.246283  0.033263    1.533481  \n",
       "9   0.079137    0.471429  2.160283  0.042504    1.479033  \n",
       "13  0.067146    0.444444  2.155039  0.035988    1.428777  "
      ]
     },
     "execution_count": 40,
     "metadata": {},
     "output_type": "execute_result"
    }
   ],
   "source": [
    "frequent_keywords_politics = apriori(keyword_politics_encoded, min_support = 0.05, use_colnames = True)\n",
    "\n",
    "rules_c_politics = association_rules(frequent_keywords_politics, metric=\"confidence\", min_threshold=0.4)\n",
    "rules_c_politics.sort_values('confidence', ascending = False, inplace = True)\n",
    "\n",
    "rules_c_politics[ (rules_c_politics['lift'] >= 2) ].head(10)\n"
   ]
  },
  {
   "cell_type": "code",
   "execution_count": 41,
   "metadata": {},
   "outputs": [
    {
     "data": {
      "text/plain": [
       "<AxesSubplot:>"
      ]
     },
     "execution_count": 41,
     "metadata": {},
     "output_type": "execute_result"
    },
    {
     "data": {
      "image/png": "[encoded data removed]",
      "text/plain": [
       "<Figure size 432x288 with 1 Axes>"
      ]
     },
     "metadata": {
      "needs_background": "light"
     },
     "output_type": "display_data"
    }
   ],
   "source": [
    "rules_c_politics[['confidence']].boxplot()"
   ]
  },
  {
   "cell_type": "markdown",
   "metadata": {},
   "source": [
    "#### 4. Tech"
   ]
  },
  {
   "cell_type": "code",
   "execution_count": 42,
   "metadata": {},
   "outputs": [
    {
     "data": {
      "text/plain": [
       "(401, 1253)"
      ]
     },
     "execution_count": 42,
     "metadata": {},
     "output_type": "execute_result"
    }
   ],
   "source": [
    "#Filter out all sports keywords in a dataframe\n",
    "sorted_values = dat.query('category==\"tech\"')['keywords']\n",
    "\n",
    "keyword_tech = []\n",
    "for i in sorted_values:\n",
    "    keyword_tech.append(i)\n",
    "    \n",
    "keyword_tech = np.array(keyword_tech)\n",
    "\n",
    "te_tech = TransactionEncoder()\n",
    "keyword_tech_encoded = te_tech.fit_transform(keyword_tech)\n",
    "keyword_tech_encoded = pd.DataFrame(keyword_tech_encoded, columns = te_tech.columns_)\n",
    "\n",
    "keyword_tech_encoded.shape"
   ]
  },
  {
   "cell_type": "code",
   "execution_count": 43,
   "metadata": {},
   "outputs": [
    {
     "data": {
      "text/html": [
       "<div>\n",
       "<style scoped>\n",
       "    .dataframe tbody tr th:only-of-type {\n",
       "        vertical-align: middle;\n",
       "    }\n",
       "\n",
       "    .dataframe tbody tr th {\n",
       "        vertical-align: top;\n",
       "    }\n",
       "\n",
       "    .dataframe thead th {\n",
       "        text-align: right;\n",
       "    }\n",
       "</style>\n",
       "<table border=\"1\" class=\"dataframe\">\n",
       "  <thead>\n",
       "    <tr style=\"text-align: right;\">\n",
       "      <th></th>\n",
       "      <th>antecedents</th>\n",
       "      <th>consequents</th>\n",
       "      <th>antecedent support</th>\n",
       "      <th>consequent support</th>\n",
       "      <th>support</th>\n",
       "      <th>confidence</th>\n",
       "      <th>lift</th>\n",
       "      <th>leverage</th>\n",
       "      <th>conviction</th>\n",
       "    </tr>\n",
       "  </thead>\n",
       "  <tbody>\n",
       "    <tr>\n",
       "      <th>0</th>\n",
       "      <td>(handset)</td>\n",
       "      <td>(mobile)</td>\n",
       "      <td>0.052369</td>\n",
       "      <td>0.132170</td>\n",
       "      <td>0.047382</td>\n",
       "      <td>0.904762</td>\n",
       "      <td>6.845463</td>\n",
       "      <td>0.040460</td>\n",
       "      <td>9.112219</td>\n",
       "    </tr>\n",
       "    <tr>\n",
       "      <th>8</th>\n",
       "      <td>(phone, handset)</td>\n",
       "      <td>(mobile)</td>\n",
       "      <td>0.042394</td>\n",
       "      <td>0.132170</td>\n",
       "      <td>0.037406</td>\n",
       "      <td>0.882353</td>\n",
       "      <td>6.675916</td>\n",
       "      <td>0.031803</td>\n",
       "      <td>7.376559</td>\n",
       "    </tr>\n",
       "    <tr>\n",
       "      <th>1</th>\n",
       "      <td>(handset)</td>\n",
       "      <td>(phone)</td>\n",
       "      <td>0.052369</td>\n",
       "      <td>0.124688</td>\n",
       "      <td>0.042394</td>\n",
       "      <td>0.809524</td>\n",
       "      <td>6.492381</td>\n",
       "      <td>0.035864</td>\n",
       "      <td>4.595387</td>\n",
       "    </tr>\n",
       "    <tr>\n",
       "      <th>7</th>\n",
       "      <td>(mobile, handset)</td>\n",
       "      <td>(phone)</td>\n",
       "      <td>0.047382</td>\n",
       "      <td>0.124688</td>\n",
       "      <td>0.037406</td>\n",
       "      <td>0.789474</td>\n",
       "      <td>6.331579</td>\n",
       "      <td>0.031499</td>\n",
       "      <td>4.157731</td>\n",
       "    </tr>\n",
       "    <tr>\n",
       "      <th>3</th>\n",
       "      <td>(spam)</td>\n",
       "      <td>(mail)</td>\n",
       "      <td>0.039900</td>\n",
       "      <td>0.054863</td>\n",
       "      <td>0.029925</td>\n",
       "      <td>0.750000</td>\n",
       "      <td>13.670455</td>\n",
       "      <td>0.027736</td>\n",
       "      <td>3.780549</td>\n",
       "    </tr>\n",
       "    <tr>\n",
       "      <th>9</th>\n",
       "      <td>(handset)</td>\n",
       "      <td>(phone, mobile)</td>\n",
       "      <td>0.052369</td>\n",
       "      <td>0.084788</td>\n",
       "      <td>0.037406</td>\n",
       "      <td>0.714286</td>\n",
       "      <td>8.424370</td>\n",
       "      <td>0.032966</td>\n",
       "      <td>3.203242</td>\n",
       "    </tr>\n",
       "    <tr>\n",
       "      <th>4</th>\n",
       "      <td>(phone)</td>\n",
       "      <td>(mobile)</td>\n",
       "      <td>0.124688</td>\n",
       "      <td>0.132170</td>\n",
       "      <td>0.084788</td>\n",
       "      <td>0.680000</td>\n",
       "      <td>5.144906</td>\n",
       "      <td>0.068308</td>\n",
       "      <td>2.711970</td>\n",
       "    </tr>\n",
       "    <tr>\n",
       "      <th>5</th>\n",
       "      <td>(mobile)</td>\n",
       "      <td>(phone)</td>\n",
       "      <td>0.132170</td>\n",
       "      <td>0.124688</td>\n",
       "      <td>0.084788</td>\n",
       "      <td>0.641509</td>\n",
       "      <td>5.144906</td>\n",
       "      <td>0.068308</td>\n",
       "      <td>2.441659</td>\n",
       "    </tr>\n",
       "    <tr>\n",
       "      <th>2</th>\n",
       "      <td>(mail)</td>\n",
       "      <td>(spam)</td>\n",
       "      <td>0.054863</td>\n",
       "      <td>0.039900</td>\n",
       "      <td>0.029925</td>\n",
       "      <td>0.545455</td>\n",
       "      <td>13.670455</td>\n",
       "      <td>0.027736</td>\n",
       "      <td>2.112219</td>\n",
       "    </tr>\n",
       "    <tr>\n",
       "      <th>6</th>\n",
       "      <td>(phone, mobile)</td>\n",
       "      <td>(handset)</td>\n",
       "      <td>0.084788</td>\n",
       "      <td>0.052369</td>\n",
       "      <td>0.037406</td>\n",
       "      <td>0.441176</td>\n",
       "      <td>8.424370</td>\n",
       "      <td>0.032966</td>\n",
       "      <td>1.695761</td>\n",
       "    </tr>\n",
       "  </tbody>\n",
       "</table>\n",
       "</div>"
      ],
      "text/plain": [
       "         antecedents      consequents  antecedent support  consequent support  \\\n",
       "0          (handset)         (mobile)            0.052369            0.132170   \n",
       "8   (phone, handset)         (mobile)            0.042394            0.132170   \n",
       "1          (handset)          (phone)            0.052369            0.124688   \n",
       "7  (mobile, handset)          (phone)            0.047382            0.124688   \n",
       "3             (spam)           (mail)            0.039900            0.054863   \n",
       "9          (handset)  (phone, mobile)            0.052369            0.084788   \n",
       "4            (phone)         (mobile)            0.124688            0.132170   \n",
       "5           (mobile)          (phone)            0.132170            0.124688   \n",
       "2             (mail)           (spam)            0.054863            0.039900   \n",
       "6    (phone, mobile)        (handset)            0.084788            0.052369   \n",
       "\n",
       "    support  confidence       lift  leverage  conviction  \n",
       "0  0.047382    0.904762   6.845463  0.040460    9.112219  \n",
       "8  0.037406    0.882353   6.675916  0.031803    7.376559  \n",
       "1  0.042394    0.809524   6.492381  0.035864    4.595387  \n",
       "7  0.037406    0.789474   6.331579  0.031499    4.157731  \n",
       "3  0.029925    0.750000  13.670455  0.027736    3.780549  \n",
       "9  0.037406    0.714286   8.424370  0.032966    3.203242  \n",
       "4  0.084788    0.680000   5.144906  0.068308    2.711970  \n",
       "5  0.084788    0.641509   5.144906  0.068308    2.441659  \n",
       "2  0.029925    0.545455  13.670455  0.027736    2.112219  \n",
       "6  0.037406    0.441176   8.424370  0.032966    1.695761  "
      ]
     },
     "execution_count": 43,
     "metadata": {},
     "output_type": "execute_result"
    }
   ],
   "source": [
    "frequent_keywords_tech = apriori(keyword_tech_encoded, min_support = 0.028, use_colnames = True)\n",
    "\n",
    "rules_c_tech = association_rules(frequent_keywords_tech, metric=\"confidence\", min_threshold=0.4)\n",
    "rules_c_tech.sort_values('confidence', ascending = False, inplace = True)\n",
    "\n",
    "rules_c_tech.head(10)\n"
   ]
  },
  {
   "cell_type": "code",
   "execution_count": 44,
   "metadata": {},
   "outputs": [
    {
     "data": {
      "text/plain": [
       "<AxesSubplot:>"
      ]
     },
     "execution_count": 44,
     "metadata": {},
     "output_type": "execute_result"
    },
    {
     "data": {
      "image/png": "[encoded data removed]",
      "text/plain": [
       "<Figure size 432x288 with 1 Axes>"
      ]
     },
     "metadata": {
      "needs_background": "light"
     },
     "output_type": "display_data"
    }
   ],
   "source": [
    "rules_c_tech[['confidence']].boxplot()"
   ]
  },
  {
   "cell_type": "markdown",
   "metadata": {},
   "source": [
    "#### 5. Entertainment    "
   ]
  },
  {
   "cell_type": "code",
   "execution_count": 45,
   "metadata": {},
   "outputs": [
    {
     "data": {
      "text/plain": [
       "(386, 1396)"
      ]
     },
     "execution_count": 45,
     "metadata": {},
     "output_type": "execute_result"
    }
   ],
   "source": [
    "#Filter out all sports keywords in a dataframe\n",
    "sorted_values = dat.query('category==\"entertainment\"')['keywords']\n",
    "\n",
    "keyword_entertainment = []\n",
    "for i in sorted_values:\n",
    "    keyword_entertainment.append(i)\n",
    "    \n",
    "keyword_entertainment = np.array(keyword_entertainment)\n",
    "\n",
    "te_entertainment = TransactionEncoder()\n",
    "keyword_entertainment_encoded = te_entertainment.fit_transform(keyword_entertainment)\n",
    "keyword_entertainment_encoded = pd.DataFrame(keyword_entertainment_encoded, columns = te_entertainment.columns_)\n",
    "\n",
    "keyword_entertainment_encoded.shape"
   ]
  },
  {
   "cell_type": "code",
   "execution_count": 46,
   "metadata": {},
   "outputs": [
    {
     "data": {
      "text/html": [
       "<div>\n",
       "<style scoped>\n",
       "    .dataframe tbody tr th:only-of-type {\n",
       "        vertical-align: middle;\n",
       "    }\n",
       "\n",
       "    .dataframe tbody tr th {\n",
       "        vertical-align: top;\n",
       "    }\n",
       "\n",
       "    .dataframe thead th {\n",
       "        text-align: right;\n",
       "    }\n",
       "</style>\n",
       "<table border=\"1\" class=\"dataframe\">\n",
       "  <thead>\n",
       "    <tr style=\"text-align: right;\">\n",
       "      <th></th>\n",
       "      <th>antecedents</th>\n",
       "      <th>consequents</th>\n",
       "      <th>antecedent support</th>\n",
       "      <th>consequent support</th>\n",
       "      <th>support</th>\n",
       "      <th>confidence</th>\n",
       "      <th>lift</th>\n",
       "      <th>leverage</th>\n",
       "      <th>conviction</th>\n",
       "    </tr>\n",
       "  </thead>\n",
       "  <tbody>\n",
       "    <tr>\n",
       "      <th>10</th>\n",
       "      <td>(cinema)</td>\n",
       "      <td>(film)</td>\n",
       "      <td>0.031088</td>\n",
       "      <td>0.326425</td>\n",
       "      <td>0.031088</td>\n",
       "      <td>1.000000</td>\n",
       "      <td>3.063492</td>\n",
       "      <td>0.020940</td>\n",
       "      <td>inf</td>\n",
       "    </tr>\n",
       "    <tr>\n",
       "      <th>12</th>\n",
       "      <td>(movie)</td>\n",
       "      <td>(film)</td>\n",
       "      <td>0.041451</td>\n",
       "      <td>0.326425</td>\n",
       "      <td>0.038860</td>\n",
       "      <td>0.937500</td>\n",
       "      <td>2.872024</td>\n",
       "      <td>0.025330</td>\n",
       "      <td>10.777202</td>\n",
       "    </tr>\n",
       "    <tr>\n",
       "      <th>6</th>\n",
       "      <td>(office)</td>\n",
       "      <td>(box)</td>\n",
       "      <td>0.033679</td>\n",
       "      <td>0.056995</td>\n",
       "      <td>0.031088</td>\n",
       "      <td>0.923077</td>\n",
       "      <td>16.195804</td>\n",
       "      <td>0.029169</td>\n",
       "      <td>12.259067</td>\n",
       "    </tr>\n",
       "    <tr>\n",
       "      <th>2</th>\n",
       "      <td>(aviator)</td>\n",
       "      <td>(film)</td>\n",
       "      <td>0.041451</td>\n",
       "      <td>0.326425</td>\n",
       "      <td>0.033679</td>\n",
       "      <td>0.812500</td>\n",
       "      <td>2.489087</td>\n",
       "      <td>0.020148</td>\n",
       "      <td>3.592401</td>\n",
       "    </tr>\n",
       "    <tr>\n",
       "      <th>4</th>\n",
       "      <td>(prize)</td>\n",
       "      <td>(award)</td>\n",
       "      <td>0.049223</td>\n",
       "      <td>0.186528</td>\n",
       "      <td>0.038860</td>\n",
       "      <td>0.789474</td>\n",
       "      <td>4.232456</td>\n",
       "      <td>0.029679</td>\n",
       "      <td>3.863990</td>\n",
       "    </tr>\n",
       "    <tr>\n",
       "      <th>11</th>\n",
       "      <td>(festival)</td>\n",
       "      <td>(film)</td>\n",
       "      <td>0.067358</td>\n",
       "      <td>0.326425</td>\n",
       "      <td>0.051813</td>\n",
       "      <td>0.769231</td>\n",
       "      <td>2.356532</td>\n",
       "      <td>0.029826</td>\n",
       "      <td>2.918826</td>\n",
       "    </tr>\n",
       "    <tr>\n",
       "      <th>13</th>\n",
       "      <td>(oscar)</td>\n",
       "      <td>(film)</td>\n",
       "      <td>0.093264</td>\n",
       "      <td>0.326425</td>\n",
       "      <td>0.069948</td>\n",
       "      <td>0.750000</td>\n",
       "      <td>2.297619</td>\n",
       "      <td>0.039504</td>\n",
       "      <td>2.694301</td>\n",
       "    </tr>\n",
       "    <tr>\n",
       "      <th>14</th>\n",
       "      <td>(award, oscar)</td>\n",
       "      <td>(film)</td>\n",
       "      <td>0.041451</td>\n",
       "      <td>0.326425</td>\n",
       "      <td>0.031088</td>\n",
       "      <td>0.750000</td>\n",
       "      <td>2.297619</td>\n",
       "      <td>0.017558</td>\n",
       "      <td>2.694301</td>\n",
       "    </tr>\n",
       "    <tr>\n",
       "      <th>1</th>\n",
       "      <td>(actress)</td>\n",
       "      <td>(film)</td>\n",
       "      <td>0.049223</td>\n",
       "      <td>0.326425</td>\n",
       "      <td>0.036269</td>\n",
       "      <td>0.736842</td>\n",
       "      <td>2.257310</td>\n",
       "      <td>0.020202</td>\n",
       "      <td>2.559585</td>\n",
       "    </tr>\n",
       "    <tr>\n",
       "      <th>9</th>\n",
       "      <td>(single)</td>\n",
       "      <td>(chart)</td>\n",
       "      <td>0.059585</td>\n",
       "      <td>0.075130</td>\n",
       "      <td>0.038860</td>\n",
       "      <td>0.652174</td>\n",
       "      <td>8.680660</td>\n",
       "      <td>0.034383</td>\n",
       "      <td>2.659003</td>\n",
       "    </tr>\n",
       "  </tbody>\n",
       "</table>\n",
       "</div>"
      ],
      "text/plain": [
       "       antecedents consequents  antecedent support  consequent support  \\\n",
       "10        (cinema)      (film)            0.031088            0.326425   \n",
       "12         (movie)      (film)            0.041451            0.326425   \n",
       "6         (office)       (box)            0.033679            0.056995   \n",
       "2        (aviator)      (film)            0.041451            0.326425   \n",
       "4          (prize)     (award)            0.049223            0.186528   \n",
       "11      (festival)      (film)            0.067358            0.326425   \n",
       "13         (oscar)      (film)            0.093264            0.326425   \n",
       "14  (award, oscar)      (film)            0.041451            0.326425   \n",
       "1        (actress)      (film)            0.049223            0.326425   \n",
       "9         (single)     (chart)            0.059585            0.075130   \n",
       "\n",
       "     support  confidence       lift  leverage  conviction  \n",
       "10  0.031088    1.000000   3.063492  0.020940         inf  \n",
       "12  0.038860    0.937500   2.872024  0.025330   10.777202  \n",
       "6   0.031088    0.923077  16.195804  0.029169   12.259067  \n",
       "2   0.033679    0.812500   2.489087  0.020148    3.592401  \n",
       "4   0.038860    0.789474   4.232456  0.029679    3.863990  \n",
       "11  0.051813    0.769231   2.356532  0.029826    2.918826  \n",
       "13  0.069948    0.750000   2.297619  0.039504    2.694301  \n",
       "14  0.031088    0.750000   2.297619  0.017558    2.694301  \n",
       "1   0.036269    0.736842   2.257310  0.020202    2.559585  \n",
       "9   0.038860    0.652174   8.680660  0.034383    2.659003  "
      ]
     },
     "execution_count": 46,
     "metadata": {},
     "output_type": "execute_result"
    }
   ],
   "source": [
    "frequent_keywords_entertainment = apriori(keyword_entertainment_encoded, min_support = 0.03, use_colnames = True)\n",
    "\n",
    "rules_c_entertainment = association_rules(frequent_keywords_entertainment, metric=\"confidence\", min_threshold=0.5)\n",
    "rules_c_entertainment.sort_values('confidence', ascending = False, inplace = True)\n",
    "\n",
    "rules_c_entertainment.head(10)\n"
   ]
  },
  {
   "cell_type": "code",
   "execution_count": 47,
   "metadata": {},
   "outputs": [
    {
     "data": {
      "text/plain": [
       "<AxesSubplot:>"
      ]
     },
     "execution_count": 47,
     "metadata": {},
     "output_type": "execute_result"
    },
    {
     "data": {
      "image/png": "[encoded data removed]",
      "text/plain": [
       "<Figure size 432x288 with 1 Axes>"
      ]
     },
     "metadata": {
      "needs_background": "light"
     },
     "output_type": "display_data"
    }
   ],
   "source": [
    "rules_c_entertainment[['confidence']].boxplot()"
   ]
  },
  {
   "cell_type": "markdown",
   "metadata": {},
   "source": [
    "## 3. Classification Modeling - Word Count"
   ]
  },
  {
   "cell_type": "markdown",
   "metadata": {},
   "source": [
    "### 3.1 Logistic Regression"
   ]
  },
  {
   "cell_type": "markdown",
   "metadata": {},
   "source": [
    "#### 3.1.1 Sample the data"
   ]
  },
  {
   "cell_type": "code",
   "execution_count": 48,
   "metadata": {},
   "outputs": [],
   "source": [
    "#X is the input, the word counts for each word in the document\n",
    "X = text_bow.toarray()\n",
    "\n",
    "#Y is the answer(for which category the text belong to)\n",
    "#convert the sentiment to 0s and 1s\n",
    "'''\n",
    "1 sport           \n",
    "2 business         \n",
    "3 politics         \n",
    "4 tech             \n",
    "5 entertainment  \n",
    "'''  \n",
    "y = dat['category'].map( {'sport': 1, 'business': 2, 'politics': 3, 'tech': 4, 'entertainment': 5} ).astype(int)"
   ]
  },
  {
   "cell_type": "code",
   "execution_count": 49,
   "metadata": {},
   "outputs": [],
   "source": [
    "from sklearn.model_selection import train_test_split \n",
    "# Split both Inputs (X) and Ouput (y) into training set (70%) and testing set (30%) \n",
    "# Set the random state as 2\n",
    "X_train, X_test, y_train, y_test = train_test_split(X, y, test_size=0.3, random_state=2)"
   ]
  },
  {
   "cell_type": "markdown",
   "metadata": {},
   "source": [
    "#### 3.1.2 Build the Model "
   ]
  },
  {
   "cell_type": "code",
   "execution_count": 50,
   "metadata": {},
   "outputs": [
    {
     "name": "stdout",
     "output_type": "stream",
     "text": [
      "[0.94871795 0.9775641  0.95498392 0.96463023 0.9807074 ]\n",
      "(Logistic Reg) Mean training accuracy: 96.5%\n"
     ]
    }
   ],
   "source": [
    "from sklearn.model_selection import cross_val_score\n",
    "from sklearn.linear_model import LogisticRegression\n",
    "\n",
    "#model: LogisticRegression(solver='ibfgs', max_iter=1000)\n",
    "#Running the model 5 times, getting 5 accuracy scores\n",
    "log_model = LogisticRegression(solver='lbfgs', max_iter=1000)\n",
    "log_model.fit(X_train, y_train)\n",
    "\n",
    "\n",
    "training_scores = cross_val_score(log_model, X_train, y_train, cv=5)\n",
    "print(training_scores)\n",
    "training_score = np.mean(training_scores)\n",
    "\n",
    "#Getting the mean of the five scores.\n",
    "print(\"(Logistic Reg) Mean training accuracy: {:.1f}%\".format(training_score*100))"
   ]
  },
  {
   "cell_type": "markdown",
   "metadata": {},
   "source": [
    "#### 3.1.3 Evaluate the Model"
   ]
  },
  {
   "cell_type": "code",
   "execution_count": 51,
   "metadata": {},
   "outputs": [
    {
     "data": {
      "text/plain": [
       "Text(0.5, 1.0, 'Accuracy Score: 0.975')"
      ]
     },
     "execution_count": 51,
     "metadata": {},
     "output_type": "execute_result"
    },
    {
     "data": {
      "image/png": "[encoded data removed]",
      "text/plain": [
       "<Figure size 360x360 with 2 Axes>"
      ]
     },
     "metadata": {
      "needs_background": "light"
     },
     "output_type": "display_data"
    }
   ],
   "source": [
    "#Using Seaborn\n",
    "import matplotlib.pyplot as plt\n",
    "import seaborn as sns\n",
    "from sklearn import metrics\n",
    "\n",
    "predictions = log_model.predict(X_test)\n",
    "\n",
    "cm = metrics.confusion_matrix(y_test, predictions)\n",
    "\n",
    "\n",
    "plt.figure(figsize=(5,5))\n",
    "sns.heatmap(cm, annot=True, fmt=\".3f\", linewidths=.5, square = True, cmap = 'Blues_r');\n",
    "plt.ylabel('Actual label');\n",
    "plt.xlabel('Predicted label');\n",
    "all_sample_title = 'Accuracy Score: {:.3f}'.format(metrics.accuracy_score(y_test, predictions))\n",
    "plt.title(all_sample_title, size = 15)"
   ]
  },
  {
   "cell_type": "markdown",
   "metadata": {},
   "source": [
    "#### 3.1.4 Improve the Model using GridSearchCV"
   ]
  },
  {
   "cell_type": "code",
   "execution_count": 52,
   "metadata": {},
   "outputs": [
    {
     "name": "stdout",
     "output_type": "stream",
     "text": [
      "Optimized cross validation training accuracy: 96.7%\n",
      "Best parameters:  {'C': 10}\n",
      "Testing accuracy score:  97.6%\n"
     ]
    }
   ],
   "source": [
    "#GridSearchCV is the process of performing hyperparameter tuning in order to determine the optimal values for a given model\n",
    "from sklearn.model_selection import GridSearchCV\n",
    "\n",
    "#Cfloat, default=1.0\n",
    "#Reversed of regularization, must be a positive float. Like in support vector machines, smaller values specify stronger regularization.\n",
    "\n",
    "param_grid = {'C': [0.001, 0.01, 0.1, 1, 10, 100]}\n",
    "\n",
    "grid = GridSearchCV(log_model, param_grid, cv=5, n_jobs=5)\n",
    "grid.fit(X_train, y_train)\n",
    "\n",
    "#Getting the mean of the five scores.\n",
    "print(\"Optimized cross validation training accuracy: {:.1f}%\".format(grid.best_score_*100))\n",
    "print(\"Best parameters: \", grid.best_params_)\n",
    "\n",
    "#Accuracy score \n",
    "acc_score = grid.score(X_test, y_test)\n",
    "print(\"Testing accuracy score:  {:.1f}%\".format(acc_score*100))"
   ]
  },
  {
   "cell_type": "markdown",
   "metadata": {},
   "source": [
    "### 3.2 SGD Classifier"
   ]
  },
  {
   "cell_type": "code",
   "execution_count": 53,
   "metadata": {},
   "outputs": [
    {
     "name": "stdout",
     "output_type": "stream",
     "text": [
      "[0.91987179 0.97115385 0.94212219 0.95819936 0.95498392]\n",
      "(Linear SVM classifier) Mean training accuracy: 94.9%\n"
     ]
    }
   ],
   "source": [
    "#SGDClassifier is a Linear classifiers (SVM, logistic regression, a.o.) with SGD training.\n",
    "from sklearn.linear_model import SGDClassifier\n",
    "\n",
    "sgd_model = SGDClassifier(loss=\"hinge\", random_state=42)\n",
    "sgd_model.fit(X_train, y_train)\n",
    "\n",
    "training_scores = cross_val_score(sgd_model, X_train, y_train, cv=5)\n",
    "print(training_scores)\n",
    "training_score = np.mean(training_scores)\n",
    "\n",
    "#Getting the mean of the five scores.\n",
    "print(\"(Linear SVM classifier) Mean training accuracy: {:.1f}%\".format(training_score*100))"
   ]
  },
  {
   "cell_type": "code",
   "execution_count": 54,
   "metadata": {},
   "outputs": [
    {
     "name": "stdout",
     "output_type": "stream",
     "text": [
      "Optimized cross validation training accuracy: 96.1%\n",
      "Best parameters:  {'alpha': 1.0}\n",
      "Testing accuracy score:  97.3%\n"
     ]
    }
   ],
   "source": [
    "\n",
    "param_grid = {'alpha': [1e-4, 1e-3, 1e-2, 1e-1, 1e0, 1e1, 1e2, 1e3] #learning rate \n",
    "             }\n",
    "\n",
    "grid = GridSearchCV(sgd_model, param_grid=param_grid, cv=5, n_jobs=5) \n",
    "grid.fit(X_train, y_train)\n",
    "\n",
    "#Getting the mean of the five scores.\n",
    "print(\"Optimized cross validation training accuracy: {:.1f}%\".format(grid.best_score_*100))\n",
    "print(\"Best parameters: \", grid.best_params_)\n",
    "\n",
    "acc_score = grid.score(X_test, y_test)\n",
    "print(\"Testing accuracy score:  {:.1f}%\".format(acc_score*100))\n"
   ]
  },
  {
   "cell_type": "markdown",
   "metadata": {},
   "source": [
    "### 3.3 Random Forest Classifier"
   ]
  },
  {
   "cell_type": "code",
   "execution_count": 55,
   "metadata": {},
   "outputs": [
    {
     "name": "stdout",
     "output_type": "stream",
     "text": [
      "[0.95512821 0.97115385 0.95176849 0.95819936 0.96463023]\n",
      "(Random Forest Classifier) Mean training accuracy: 96.0%\n"
     ]
    }
   ],
   "source": [
    "from sklearn.ensemble import RandomForestClassifier\n",
    "\n",
    "rf_model = RandomForestClassifier(random_state=42)\n",
    "rf_model.fit(X_train, y_train)\n",
    "\n",
    "training_scores = cross_val_score(rf_model, X_train, y_train, cv=5)\n",
    "print(training_scores)\n",
    "training_score = np.mean(training_scores)\n",
    "\n",
    "#Getting the mean of the five scores.\n",
    "print(\"(Random Forest Classifier) Mean training accuracy: {:.1f}%\".format(training_score*100))\n"
   ]
  },
  {
   "cell_type": "code",
   "execution_count": 56,
   "metadata": {},
   "outputs": [
    {
     "name": "stdout",
     "output_type": "stream",
     "text": [
      "Optimized cross validation training accuracy: 96.1%\n",
      "Best parameters:  {'max_depth': 40}\n",
      "Testing accuracy score:  97.0%\n"
     ]
    }
   ],
   "source": [
    "\n",
    "param_grid = {\n",
    "    'max_depth': [20, 40, 60, 80, 100, 120]\n",
    "}\n",
    "\n",
    "\n",
    "grid = GridSearchCV(rf_model, param_grid=param_grid, cv=5, n_jobs=5,) \n",
    "grid.fit(X_train, y_train)\n",
    "\n",
    "#Getting the mean of the five scores.\n",
    "print(\"Optimized cross validation training accuracy: {:.1f}%\".format(grid.best_score_*100))\n",
    "print(\"Best parameters: \", grid.best_params_)\n",
    "\n",
    "acc_score = grid.score(X_test, y_test)\n",
    "print(\"Testing accuracy score:  {:.1f}%\".format(acc_score*100))\n"
   ]
  },
  {
   "cell_type": "markdown",
   "metadata": {},
   "source": [
    "## 3. Classification Modeling (Use Tf-Idf matrix as model input)"
   ]
  },
  {
   "cell_type": "markdown",
   "metadata": {},
   "source": [
    "### 3.1 Logistic Regression"
   ]
  },
  {
   "cell_type": "markdown",
   "metadata": {},
   "source": [
    "#### 3.1.1 Sample the data"
   ]
  },
  {
   "cell_type": "code",
   "execution_count": 57,
   "metadata": {},
   "outputs": [],
   "source": [
    "X2 = text_tfidf.toarray()\n",
    "\n",
    "'''\n",
    "1 sport           \n",
    "2 business         \n",
    "3 politics         \n",
    "4 tech             \n",
    "5 entertainment  \n",
    "'''  \n",
    "y = dat['category'].map( {'sport': 1, 'business': 2, 'politics': 3, 'tech': 4, 'entertainment': 5} ).astype(int)"
   ]
  },
  {
   "cell_type": "code",
   "execution_count": 58,
   "metadata": {},
   "outputs": [],
   "source": [
    "# Split both Inputs (X2) and Ouput (y) into training set (70%) and testing set (30%)\n",
    "\n",
    "X2_train, X2_test, y_train, y_test = train_test_split(X2, y, test_size=0.3, random_state=2)"
   ]
  },
  {
   "cell_type": "markdown",
   "metadata": {},
   "source": [
    "#### 3.1.2 Build the Model "
   ]
  },
  {
   "cell_type": "code",
   "execution_count": 59,
   "metadata": {},
   "outputs": [
    {
     "name": "stdout",
     "output_type": "stream",
     "text": [
      "[0.95512821 0.98717949 0.95498392 0.97106109 0.9807074 ]\n",
      "(Logistic Reg2) Mean training accuracy: 97.0%\n"
     ]
    }
   ],
   "source": [
    "log_model2 = LogisticRegression(solver='lbfgs', max_iter=1000, multi_class=\"multinomial\")\n",
    "log_model2.fit(X2_train, y_train)\n",
    "\n",
    "training_scores2 = cross_val_score(log_model2, X2_train, y_train, cv=5)\n",
    "print(training_scores2)\n",
    "training_score2 = np.mean(training_scores2)\n",
    "\n",
    "#Getting the mean of the five scores.\n",
    "print(\"(Logistic Reg2) Mean training accuracy: {:.1f}%\".format(training_score2*100))"
   ]
  },
  {
   "cell_type": "markdown",
   "metadata": {},
   "source": [
    "#### 3.1.3 Evaluate the Model"
   ]
  },
  {
   "cell_type": "code",
   "execution_count": 60,
   "metadata": {},
   "outputs": [
    {
     "data": {
      "image/png": "[encoded data removed]",
      "text/plain": [
       "<Figure size 360x360 with 2 Axes>"
      ]
     },
     "metadata": {
      "needs_background": "light"
     },
     "output_type": "display_data"
    }
   ],
   "source": [
    "#Using Seaborn\n",
    "import matplotlib.pyplot as plt\n",
    "import seaborn as sns\n",
    "from sklearn import metrics\n",
    "\n",
    "predictions = log_model2.predict(X2_test)\n",
    "\n",
    "cm = metrics.confusion_matrix(y_test, predictions)\n",
    "\n",
    "plt.figure(figsize=(5,5))\n",
    "sns.heatmap(cm, annot=True, fmt=\".3f\", linewidths=.5, square = True, cmap = 'Blues_r');\n",
    "plt.ylabel('Actual label');\n",
    "plt.xlabel('Predicted label');\n",
    "all_sample_title = 'Accuracy Score: {:.3f}'.format(metrics.accuracy_score(y_test, predictions))\n",
    "plt.title(all_sample_title, size = 15);"
   ]
  },
  {
   "cell_type": "markdown",
   "metadata": {},
   "source": [
    "#### 3.1.4 Improve the Model using GridSearchCV"
   ]
  },
  {
   "cell_type": "code",
   "execution_count": 61,
   "metadata": {},
   "outputs": [
    {
     "name": "stdout",
     "output_type": "stream",
     "text": [
      "Optimized cross validation training accuracy: 97.1%\n",
      "Best parameters:  {'C': 10}\n",
      "Testing accuracy score:  97.9%\n"
     ]
    }
   ],
   "source": [
    "from sklearn.model_selection import GridSearchCV\n",
    "\n",
    "param_grid = {\"C\": [0.01, 0.1, 1, 10]}\n",
    "\n",
    "grid = GridSearchCV(log_model2, param_grid, cv=5, n_jobs=5)\n",
    "grid.fit(X2_train, y_train)\n",
    "\n",
    "print(\"Optimized cross validation training accuracy: {:.1f}%\".format(grid.best_score_*100))\n",
    "print(\"Best parameters: \", grid.best_params_)\n",
    "\n",
    "#Accuracy score \n",
    "acc_score = grid.score(X2_test, y_test)\n",
    "print(\"Testing accuracy score:  {:.1f}%\".format(acc_score*100))"
   ]
  },
  {
   "cell_type": "code",
   "execution_count": 62,
   "metadata": {},
   "outputs": [
    {
     "data": {
      "text/plain": [
       "0.9790419161676647"
      ]
     },
     "execution_count": 62,
     "metadata": {},
     "output_type": "execute_result"
    }
   ],
   "source": [
    "predictions = grid.predict(X2_test)\n",
    "metrics.accuracy_score(y_test, predictions)"
   ]
  },
  {
   "cell_type": "markdown",
   "metadata": {},
   "source": [
    "### 3.2 SGD Classifier"
   ]
  },
  {
   "cell_type": "code",
   "execution_count": 63,
   "metadata": {},
   "outputs": [
    {
     "name": "stdout",
     "output_type": "stream",
     "text": [
      "[0.95192308 0.98076923 0.96141479 0.97106109 0.97427653]\n",
      "(Linear SVM classifier2) Mean training accuracy: 96.8%\n"
     ]
    }
   ],
   "source": [
    "#SGDClassifier is a Linear classifiers (SVM, logistic regression, a.o.) with SGD training.\n",
    "from sklearn.linear_model import SGDClassifier\n",
    "\n",
    "sgd_model2 = SGDClassifier(loss=\"hinge\", random_state=42)\n",
    "sgd_model2.fit(X2_train, y_train)\n",
    "\n",
    "training_scores2 = cross_val_score(sgd_model2, X2_train, y_train, cv=5)\n",
    "print(training_scores2)\n",
    "training_score2 = np.mean(training_scores2)\n",
    "#Getting the mean of the five scores.\n",
    "\n",
    "print(\"(Linear SVM classifier2) Mean training accuracy: {:.1f}%\".format(training_score2*100))"
   ]
  },
  {
   "cell_type": "code",
   "execution_count": 64,
   "metadata": {},
   "outputs": [
    {
     "name": "stdout",
     "output_type": "stream",
     "text": [
      "Optimized cross validation training accuracy: 96.8%\n",
      "Best parameters:  {'alpha': 0.0001}\n",
      "Testing accuracy score:  97.3%\n"
     ]
    }
   ],
   "source": [
    "param_grid = {\n",
    "    'alpha': [1e-7, 1e-6, 1e-5, 1e-4, 1e-3, 1e-2] #learning rate ]\n",
    "}\n",
    "\n",
    "grid = GridSearchCV(sgd_model2, param_grid, cv=5, n_jobs=-1) \n",
    "grid.fit(X2_train, y_train)\n",
    "\n",
    "#Getting the mean of the five scores.\n",
    "print(\"Optimized cross validation training accuracy: {:.1f}%\".format(grid.best_score_*100))\n",
    "print(\"Best parameters: \", grid.best_params_)\n",
    "\n",
    "acc_score = grid.score(X2_test, y_test)\n",
    "print(\"Testing accuracy score:  {:.1f}%\".format(acc_score*100))"
   ]
  },
  {
   "cell_type": "markdown",
   "metadata": {},
   "source": [
    "### 3.3 Random Forest Classifier"
   ]
  },
  {
   "cell_type": "code",
   "execution_count": 65,
   "metadata": {},
   "outputs": [
    {
     "name": "stdout",
     "output_type": "stream",
     "text": [
      "[0.96153846 0.97115385 0.94855305 0.95498392 0.95819936]\n",
      "(Random Forest Classifier2) Mean training accuracy: 95.9%\n"
     ]
    }
   ],
   "source": [
    "from sklearn.ensemble import RandomForestClassifier\n",
    "\n",
    "rf_model2 = RandomForestClassifier(random_state=42)\n",
    "rf_model2.fit(X2_train, y_train)\n",
    "\n",
    "training_scores2 = cross_val_score(rf_model2, X2_train, y_train, cv=5)\n",
    "print(training_scores2)\n",
    "training_score2 = np.mean(training_scores2)\n",
    "\n",
    "#Getting the mean of the five scores.\n",
    "print(\"(Random Forest Classifier2) Mean training accuracy: {:.1f}%\".format(training_score2*100))\n"
   ]
  },
  {
   "cell_type": "code",
   "execution_count": 86,
   "metadata": {},
   "outputs": [
    {
     "name": "stdout",
     "output_type": "stream",
     "text": [
      "Optimized cross validation training accuracy: 96.1%\n",
      "Best parameters:  {'max_depth': 60}\n",
      "Testing accuracy score:  96.3%\n"
     ]
    }
   ],
   "source": [
    "param_grid = {\n",
    "    \"max_depth\": [20, 40, 60, 80, 100, 120]\n",
    "}\n",
    "\n",
    "\n",
    "grid = GridSearchCV(rf_model2, param_grid=param_grid, cv=5, n_jobs=-1) \n",
    "grid.fit(X2_train, y_train)\n",
    "\n",
    "#Getting the mean of the five scores.\n",
    "print(\"Optimized cross validation training accuracy: {:.1f}%\".format(grid.best_score_*100))\n",
    "print(\"Best parameters: \", grid.best_params_)\n",
    "\n",
    "acc_score = grid.score(X2_test, y_test)\n",
    "\n",
    "print(\"Testing accuracy score:  {:.1f}%\".format(acc_score*100))\n"
   ]
  },
  {
   "cell_type": "markdown",
   "metadata": {},
   "source": [
    "## Further Improvements "
   ]
  },
  {
   "cell_type": "markdown",
   "metadata": {},
   "source": [
    "### Trying out Naive Bayes Classifier to see if can achieve higher performance"
   ]
  },
  {
   "cell_type": "markdown",
   "metadata": {},
   "source": [
    "#### 1. Naive Bayes Classifier using word count as input"
   ]
  },
  {
   "cell_type": "code",
   "execution_count": 124,
   "metadata": {},
   "outputs": [
    {
     "name": "stdout",
     "output_type": "stream",
     "text": [
      "[0.95512821 0.98717949 0.96463023 0.96784566 0.97749196]\n",
      "(Naive Bayes Classifier) Mean training accuracy: 97.0%\n"
     ]
    }
   ],
   "source": [
    "from sklearn.naive_bayes import MultinomialNB\n",
    "\n",
    "nb = MultinomialNB()\n",
    "nb.fit(X_train, y_train)\n",
    "\n",
    "training_scores = cross_val_score(nb, X_train, y_train, cv=5)\n",
    "print(training_scores)\n",
    "training_score = np.mean(training_scores)\n",
    "\n",
    "#Getting the mean of the five scores.\n",
    "print(\"(Naive Bayes Classifier) Mean training accuracy: {:.1f}%\".format(training_score*100))\n"
   ]
  },
  {
   "cell_type": "code",
   "execution_count": 125,
   "metadata": {},
   "outputs": [
    {
     "name": "stdout",
     "output_type": "stream",
     "text": [
      "Fitting 5 folds for each of 6 candidates, totalling 30 fits\n",
      "Optimized cross validation training accuracy: 97.2%\n",
      "Best parameters:  {'alpha': 2}\n",
      "Testing accuracy score:  96.7%\n"
     ]
    }
   ],
   "source": [
    "\n",
    "param_grid = {\n",
    "    \"alpha\": [1, 1.5, 2, 3, 5, 10]\n",
    "}\n",
    "\n",
    "\n",
    "grid = GridSearchCV(estimator=nb, param_grid=param_grid, cv=5, n_jobs=-1, verbose=5) \n",
    "grid.fit(X_train, y_train)\n",
    "\n",
    "#Getting the mean of the five scores.\n",
    "print(\"Optimized cross validation training accuracy: {:.1f}%\".format(grid.best_score_*100))\n",
    "print(\"Best parameters: \", grid.best_params_)\n",
    "\n",
    "acc_score = grid.score(X_test, y_test)\n",
    "\n",
    "print(\"Testing accuracy score:  {:.1f}%\".format(acc_score*100))"
   ]
  },
  {
   "cell_type": "markdown",
   "metadata": {},
   "source": [
    "#### 2. Naive Bayes Classifier using TF-IDF matrix as input"
   ]
  },
  {
   "cell_type": "code",
   "execution_count": 88,
   "metadata": {},
   "outputs": [
    {
     "name": "stdout",
     "output_type": "stream",
     "text": [
      "[0.95192308 0.98717949 0.96141479 0.97106109 0.9807074 ]\n",
      "(Naive Bayes Classifier) Mean training accuracy: 97.0%\n"
     ]
    }
   ],
   "source": [
    "from sklearn.naive_bayes import MultinomialNB\n",
    "\n",
    "nb2 = MultinomialNB()\n",
    "nb2.fit(X2_train, y_train)\n",
    "\n",
    "training_scores2 = cross_val_score(nb2, X2_train, y_train, cv=5)\n",
    "print(training_scores2)\n",
    "training_score2 = np.mean(training_scores2)\n",
    "\n",
    "#Getting the mean of the five scores.\n",
    "print(\"(Naive Bayes Classifier) Mean training accuracy: {:.1f}%\".format(training_score2*100))\n"
   ]
  },
  {
   "cell_type": "code",
   "execution_count": 94,
   "metadata": {},
   "outputs": [
    {
     "name": "stdout",
     "output_type": "stream",
     "text": [
      "Optimized cross validation training accuracy: 97.4%\n",
      "Best parameters:  {'alpha': 0.02}\n",
      "Testing accuracy score:  97.0%\n"
     ]
    }
   ],
   "source": [
    "param_grid = {\n",
    "    \"alpha\": [0.01, 0.02, 0.03, 0.04, 0.05, 0.1, 1]\n",
    "}\n",
    "\n",
    "\n",
    "grid = GridSearchCV(nb2, param_grid=param_grid, cv=5, n_jobs=-1) \n",
    "grid.fit(X2_train, y_train)\n",
    "\n",
    "#Getting the mean of the five scores.\n",
    "print(\"Optimized cross validation training accuracy: {:.1f}%\".format(grid.best_score_*100))\n",
    "print(\"Best parameters: \", grid.best_params_)\n",
    "\n",
    "acc_score = grid.score(X2_test, y_test)\n",
    "\n",
    "print(\"Testing accuracy score:  {:.1f}%\".format(acc_score*100))"
   ]
  },
  {
   "cell_type": "code",
   "execution_count": null,
   "metadata": {},
   "outputs": [],
   "source": []
  },
  {
   "cell_type": "code",
   "execution_count": null,
   "metadata": {},
   "outputs": [],
   "source": []
  },
  {
   "cell_type": "code",
   "execution_count": null,
   "metadata": {},
   "outputs": [],
   "source": []
  }
 ],
 "metadata": {
  "kernelspec": {
   "display_name": "Python 3",
   "language": "python",
   "name": "python3"
  },
  "language_info": {
   "codemirror_mode": {
    "name": "ipython",
    "version": 3
   },
   "file_extension": ".py",
   "mimetype": "text/x-python",
   "name": "python",
   "nbconvert_exporter": "python",
   "pygments_lexer": "ipython3",
   "version": "3.8.5"
  }
 },
 "nbformat": 4,
 "nbformat_minor": 2
}
